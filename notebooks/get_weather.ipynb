{
 "cells": [
  {
   "cell_type": "markdown",
   "metadata": {},
   "source": [
    "# Get Weather Data"
   ]
  },
  {
   "cell_type": "code",
   "execution_count": 1,
   "metadata": {},
   "outputs": [],
   "source": [
    "import sys\n",
    "from datetime import datetime\n",
    "import pandas as pd\n",
    "sys.path.append('..')\n",
    "from WeatherFetcher import WeatherFetcher"
   ]
  },
  {
   "cell_type": "markdown",
   "metadata": {},
   "source": [
    "The WeatherFetcher class requires a pandas DataFrame object with column titles \n",
    "'Latitude', 'Longitude', and 'Vintage Year', indicating the coordinates and year \n",
    "that the originating grapes were harvested.\n",
    "\n",
    "In this example, we are going to request historical weather data for a 2019 Napa\n",
    "Valley wine (located at 38.4274 latitude, 122.3943 longitude)."
   ]
  },
  {
   "cell_type": "code",
   "execution_count": 2,
   "metadata": {},
   "outputs": [],
   "source": [
    "# Combine coordiante data with processed data\n",
    "coord_df = pd.read_csv('../data/AVA_coordinates.csv')\n",
    "df = pd.read_csv('../data/wine_processed.csv').drop(columns = ['Unnamed: 0'])\n",
    "df = coord_df.merge(df, right_on='region', left_on='AVA')\n",
    "df = df[['latitude', 'longitude', 'region', 'vintage']].drop_duplicates().reset_index(drop=True)"
   ]
  },
  {
   "cell_type": "markdown",
   "metadata": {},
   "source": [
    "Now we will initailize a WeatherFetcher object that will organize the requested\n",
    "data"
   ]
  },
  {
   "cell_type": "code",
   "execution_count": 4,
   "metadata": {},
   "outputs": [
    {
     "name": "stdout",
     "output_type": "stream",
     "text": [
      "Data has been pulled for napa (1996 - 2020)\n",
      "Data has been pulled for RRV (1996 - 2020)\n",
      "Data has been pulled for sonoma (1996 - 2020)\n",
      "Data has been pulled for carneros (1996 - 2020)\n",
      "Data has been pulled for anderson valley (2002 - 2020)\n",
      "Data has been pulled for santa barbara (1996 - 2020)\n",
      "Data has been pulled for central coast (1996 - 2020)\n",
      "Data has been pulled for north coast (1998 - 2020)\n",
      "Data has been pulled for south coast (1998 - 2020)\n",
      "Data has been pulled for sierra foothills (1996 - 2020)\n",
      "Data has been pulled for willamette valley (1996 - 2020)\n",
      "Data has been pulled for columbia valley (1996 - 2020)\n",
      "\n"
     ]
    }
   ],
   "source": [
    "wf = WeatherFetcher(data = df)\n",
    "wf.query_weather()\n",
    "wf.clean_weather_data()\n",
    "wf.filter_weather_data()"
   ]
  },
  {
   "cell_type": "markdown",
   "metadata": {},
   "source": [
    "Let's look at the output"
   ]
  },
  {
   "cell_type": "code",
   "execution_count": null,
   "metadata": {},
   "outputs": [
    {
     "data": {
      "text/html": [
       "<div>\n",
       "<style scoped>\n",
       "    .dataframe tbody tr th:only-of-type {\n",
       "        vertical-align: middle;\n",
       "    }\n",
       "\n",
       "    .dataframe tbody tr th {\n",
       "        vertical-align: top;\n",
       "    }\n",
       "\n",
       "    .dataframe thead th {\n",
       "        text-align: right;\n",
       "    }\n",
       "</style>\n",
       "<table border=\"1\" class=\"dataframe\">\n",
       "  <thead>\n",
       "    <tr style=\"text-align: right;\">\n",
       "      <th></th>\n",
       "      <th>time</th>\n",
       "      <th>tavg</th>\n",
       "      <th>tmin</th>\n",
       "      <th>tmax</th>\n",
       "      <th>prcp</th>\n",
       "      <th>snow</th>\n",
       "      <th>wspd</th>\n",
       "      <th>pres</th>\n",
       "    </tr>\n",
       "  </thead>\n",
       "  <tbody>\n",
       "    <tr>\n",
       "      <th>1782</th>\n",
       "      <td>2005-03-01</td>\n",
       "      <td>9.6</td>\n",
       "      <td>3.9</td>\n",
       "      <td>15.0</td>\n",
       "      <td>7.900000</td>\n",
       "      <td>0.0</td>\n",
       "      <td>9.3</td>\n",
       "      <td>1.003504</td>\n",
       "    </tr>\n",
       "    <tr>\n",
       "      <th>1783</th>\n",
       "      <td>2005-03-02</td>\n",
       "      <td>10.8</td>\n",
       "      <td>6.7</td>\n",
       "      <td>16.7</td>\n",
       "      <td>1.500000</td>\n",
       "      <td>0.0</td>\n",
       "      <td>6.1</td>\n",
       "      <td>1.004194</td>\n",
       "    </tr>\n",
       "    <tr>\n",
       "      <th>1784</th>\n",
       "      <td>2005-03-03</td>\n",
       "      <td>10.2</td>\n",
       "      <td>3.9</td>\n",
       "      <td>15.6</td>\n",
       "      <td>0.144702</td>\n",
       "      <td>0.0</td>\n",
       "      <td>9.2</td>\n",
       "      <td>1.003405</td>\n",
       "    </tr>\n",
       "    <tr>\n",
       "      <th>1785</th>\n",
       "      <td>2005-03-04</td>\n",
       "      <td>11.4</td>\n",
       "      <td>7.2</td>\n",
       "      <td>16.1</td>\n",
       "      <td>0.144702</td>\n",
       "      <td>0.0</td>\n",
       "      <td>5.0</td>\n",
       "      <td>1.003306</td>\n",
       "    </tr>\n",
       "    <tr>\n",
       "      <th>1786</th>\n",
       "      <td>2005-03-05</td>\n",
       "      <td>10.9</td>\n",
       "      <td>3.3</td>\n",
       "      <td>18.9</td>\n",
       "      <td>0.300000</td>\n",
       "      <td>0.0</td>\n",
       "      <td>6.5</td>\n",
       "      <td>1.004013</td>\n",
       "    </tr>\n",
       "    <tr>\n",
       "      <th>...</th>\n",
       "      <td>...</td>\n",
       "      <td>...</td>\n",
       "      <td>...</td>\n",
       "      <td>...</td>\n",
       "      <td>...</td>\n",
       "      <td>...</td>\n",
       "      <td>...</td>\n",
       "      <td>...</td>\n",
       "    </tr>\n",
       "    <tr>\n",
       "      <th>2019</th>\n",
       "      <td>2005-10-27</td>\n",
       "      <td>12.4</td>\n",
       "      <td>7.8</td>\n",
       "      <td>17.8</td>\n",
       "      <td>0.000000</td>\n",
       "      <td>0.0</td>\n",
       "      <td>9.1</td>\n",
       "      <td>1.001332</td>\n",
       "    </tr>\n",
       "    <tr>\n",
       "      <th>2020</th>\n",
       "      <td>2005-10-28</td>\n",
       "      <td>14.1</td>\n",
       "      <td>11.7</td>\n",
       "      <td>17.8</td>\n",
       "      <td>0.032930</td>\n",
       "      <td>0.0</td>\n",
       "      <td>10.0</td>\n",
       "      <td>1.001199</td>\n",
       "    </tr>\n",
       "    <tr>\n",
       "      <th>2021</th>\n",
       "      <td>2005-10-29</td>\n",
       "      <td>13.8</td>\n",
       "      <td>7.2</td>\n",
       "      <td>19.4</td>\n",
       "      <td>0.032930</td>\n",
       "      <td>0.0</td>\n",
       "      <td>6.5</td>\n",
       "      <td>1.001199</td>\n",
       "    </tr>\n",
       "    <tr>\n",
       "      <th>2022</th>\n",
       "      <td>2005-10-30</td>\n",
       "      <td>10.8</td>\n",
       "      <td>1.7</td>\n",
       "      <td>20.6</td>\n",
       "      <td>0.000000</td>\n",
       "      <td>0.0</td>\n",
       "      <td>5.8</td>\n",
       "      <td>1.011695</td>\n",
       "    </tr>\n",
       "    <tr>\n",
       "      <th>2023</th>\n",
       "      <td>2005-10-31</td>\n",
       "      <td>12.1</td>\n",
       "      <td>2.8</td>\n",
       "      <td>22.8</td>\n",
       "      <td>0.000000</td>\n",
       "      <td>0.0</td>\n",
       "      <td>4.9</td>\n",
       "      <td>1.012090</td>\n",
       "    </tr>\n",
       "  </tbody>\n",
       "</table>\n",
       "<p>242 rows × 8 columns</p>\n",
       "</div>"
      ],
      "text/plain": [
       "           time  tavg  tmin  tmax      prcp  snow  wspd      pres\n",
       "1782 2005-03-01   9.6   3.9  15.0  7.900000   0.0   9.3  1.003504\n",
       "1783 2005-03-02  10.8   6.7  16.7  1.500000   0.0   6.1  1.004194\n",
       "1784 2005-03-03  10.2   3.9  15.6  0.144702   0.0   9.2  1.003405\n",
       "1785 2005-03-04  11.4   7.2  16.1  0.144702   0.0   5.0  1.003306\n",
       "1786 2005-03-05  10.9   3.3  18.9  0.300000   0.0   6.5  1.004013\n",
       "...         ...   ...   ...   ...       ...   ...   ...       ...\n",
       "2019 2005-10-27  12.4   7.8  17.8  0.000000   0.0   9.1  1.001332\n",
       "2020 2005-10-28  14.1  11.7  17.8  0.032930   0.0  10.0  1.001199\n",
       "2021 2005-10-29  13.8   7.2  19.4  0.032930   0.0   6.5  1.001199\n",
       "2022 2005-10-30  10.8   1.7  20.6  0.000000   0.0   5.8  1.011695\n",
       "2023 2005-10-31  12.1   2.8  22.8  0.000000   0.0   4.9  1.012090\n",
       "\n",
       "[242 rows x 8 columns]"
      ]
     },
     "execution_count": 7,
     "metadata": {},
     "output_type": "execute_result"
    }
   ],
   "source": [
    "wf.output['napa-2005']"
   ]
  },
  {
   "cell_type": "markdown",
   "metadata": {},
   "source": [
    "Perfect, now write everything out to csvs"
   ]
  },
  {
   "cell_type": "code",
   "execution_count": null,
   "metadata": {},
   "outputs": [],
   "source": [
    "for k, v in wf.output.items():\n",
    "    if pd.notna(v):\n",
    "        v.to_csv(f'../data/weather1/{k}.csv', index = False)"
   ]
  }
 ],
 "metadata": {
  "interpreter": {
   "hash": "0337d2cc2b5683388ea6dc99d8d30493a1ecc8156f138874653b27619d8f6cfd"
  },
  "kernelspec": {
   "display_name": "Python 3",
   "language": "python",
   "name": "python3"
  },
  "language_info": {
   "codemirror_mode": {
    "name": "ipython",
    "version": 3
   },
   "file_extension": ".py",
   "mimetype": "text/x-python",
   "name": "python",
   "nbconvert_exporter": "python",
   "pygments_lexer": "ipython3",
   "version": "3.9.7"
  }
 },
 "nbformat": 4,
 "nbformat_minor": 2
}
