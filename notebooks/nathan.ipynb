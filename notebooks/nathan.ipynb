{
 "cells": [
  {
   "cell_type": "code",
   "execution_count": 8,
   "metadata": {
    "id": "7DcLGpsk-CHc"
   },
   "outputs": [],
   "source": [
    "import numpy as np\n",
    "import pandas as pd\n",
    "import math\n",
    "import matplotlib.pyplot as plt\n",
    "from scipy.stats import pearsonr\n",
    "from sklearn.linear_model import LinearRegression, Lasso, Ridge\n",
    "from sklearn.model_selection import train_test_split, cross_val_predict\n",
    "from sklearn.metrics import mean_squared_error"
   ]
  },
  {
   "cell_type": "code",
   "execution_count": 2,
   "metadata": {
    "id": "7TSxcJ85BV7J"
   },
   "outputs": [],
   "source": [
    "df = pd.read_csv('../data/wine_data_final.csv')"
   ]
  },
  {
   "cell_type": "markdown",
   "metadata": {
    "id": "Nm2X6zp2B3hw"
   },
   "source": [
    "We separated the thick-skin grapes from the thin-skin grapes for they have different growth patterns. This model below represents the thick grapes (Cabernet Sauvignon, Zinfandel, Syrah). Realized there was no snow at all throughout the season, so we got rid of that feature just for this model. Some years had some very corrupt weather data, so some years had to be discarded which may have affected our predictions. We conducted this using 5-fold cross-validation for the purpose of using all of the data for both training and testing. I tried multiple models such as Lasso, Ridge, and Linear Regression from the sklearn library, all of which were very similar. The RMSE for each model is around 2.4 which isn't too bad. With the lack of some weather features and only 233 ratings to base our model off of, 2.4 is actually pretty good. The range of the real ratings was between 84 and 96 with a mean of 91."
   ]
  },
  {
   "cell_type": "code",
   "execution_count": 12,
   "metadata": {
    "id": "CeEdrQiG2PIA"
   },
   "outputs": [],
   "source": [
    "df_0 = df[df['skin'] == 0] # 96\n",
    "df_avg_0 = pd.DataFrame(columns = ['tavg','tmin','tmax','prcp','snow','wspd','pres','quality'])\n",
    "j = 0\n",
    "for i, rows in df_0.iterrows():\n",
    "  weather = pd.read_csv('../data/complete_weather/' + df_0['file'][i])\n",
    "  df_avg_0 = df_avg_0.append(weather.mean(), ignore_index=True)\n",
    "  df_avg_0['quality'][j] = df_0['quality'][i]\n",
    "  j += 1\n",
    "df_avg_0 = df_avg_0.dropna() # now 83\n",
    "del df_avg_0['snow']\n",
    "# display(df_avg_0)"
   ]
  },
  {
   "cell_type": "code",
   "execution_count": 13,
   "metadata": {
    "colab": {
     "base_uri": "https://localhost:8080/"
    },
    "id": "o3x2BLKeBX4l",
    "outputId": "28fe45e5-a1b4-4384-b611-c127dd3a690b"
   },
   "outputs": [
    {
     "name": "stdout",
     "output_type": "stream",
     "text": [
      "RMSE: 2.336\n"
     ]
    }
   ],
   "source": [
    "x_0 = df_avg_0[['tavg','tmin','tmax','prcp','wspd','pres']].to_numpy() # features\n",
    "y_0 = df_avg_0['quality'].to_numpy() # target\n",
    "\n",
    "model = LinearRegression()\n",
    "y_pred_0 = cross_val_predict(model, x_0, y_0, cv = 5)\n",
    "# print(y_0)\n",
    "# print(y_pred_0)\n",
    "print(\"RMSE: %.3f\" % np.sqrt(mean_squared_error(y_0, y_pred_0)))"
   ]
  },
  {
   "cell_type": "code",
   "execution_count": 14,
   "metadata": {},
   "outputs": [
    {
     "data": {
      "image/png": "[encoded data removed]",
      "text/plain": [
       "<Figure size 432x288 with 1 Axes>"
      ]
     },
     "metadata": {
      "needs_background": "light"
     },
     "output_type": "display_data"
    }
   ],
   "source": [
    "plt.scatter(y_pred_0, y_0)\n",
    "plt.show()"
   ]
  },
  {
   "cell_type": "code",
   "execution_count": 15,
   "metadata": {},
   "outputs": [
    {
     "data": {
      "text/plain": [
       "0.23173343442327018"
      ]
     },
     "execution_count": 15,
     "metadata": {},
     "output_type": "execute_result"
    }
   ],
   "source": [
    "tck_corr, _ =  pearsonr(y_pred_0, y_0)\n",
    "tck_corr"
   ]
  },
  {
   "cell_type": "markdown",
   "metadata": {
    "id": "nYiBbdquBbBA"
   },
   "source": [
    "This model below represents the thin grapes (Pinot Noir and Chardonnay)"
   ]
  },
  {
   "cell_type": "code",
   "execution_count": 16,
   "metadata": {
    "id": "w1Mmry5w1xDc"
   },
   "outputs": [],
   "source": [
    "df_1 = df[df['skin'] == 1] # 127\n",
    "df_avg_1 = pd.DataFrame(columns = ['tavg','tmin','tmax','prcp','snow','wspd','pres','quality'])\n",
    "j = 0\n",
    "for i, rows in df_1.iterrows():\n",
    "  weather = pd.read_csv('../data/complete_weather/' + df_1['file'][i])\n",
    "  df_avg_1 = df_avg_1.append(weather.mean(), ignore_index=True)\n",
    "  df_avg_1['quality'][j] = df_1['quality'][i]\n",
    "  j += 1\n",
    "df_avg_1 = df_avg_1.dropna() # now 115\n",
    "del df_avg_1['snow']\n",
    "# display(df_avg_1)"
   ]
  },
  {
   "cell_type": "code",
   "execution_count": 17,
   "metadata": {
    "colab": {
     "base_uri": "https://localhost:8080/"
    },
    "id": "THQTiDm_BYmX",
    "outputId": "5ed24483-6924-4ec7-ffa6-21c4d7103638"
   },
   "outputs": [
    {
     "name": "stdout",
     "output_type": "stream",
     "text": [
      "RMSE: 2.451\n"
     ]
    }
   ],
   "source": [
    "x_1 = df_avg_1[['tavg','tmin','tmax','prcp','wspd','pres']].to_numpy() # features\n",
    "y_1 = df_avg_1['quality'].to_numpy() # target\n",
    "\n",
    "model = LinearRegression()\n",
    "y_pred_1 = cross_val_predict(model, x_1, y_1, cv = 5)\n",
    "# print(y_1)\n",
    "# print(y_pred_1)\n",
    "print(\"RMSE: %.3f\" % np.sqrt(mean_squared_error(y_1, y_pred_1)))"
   ]
  },
  {
   "cell_type": "code",
   "execution_count": 18,
   "metadata": {},
   "outputs": [
    {
     "data": {
      "image/png": "[encoded data removed]",
      "text/plain": [
       "<Figure size 432x288 with 1 Axes>"
      ]
     },
     "metadata": {
      "needs_background": "light"
     },
     "output_type": "display_data"
    }
   ],
   "source": [
    "plt.scatter(y_pred_1, y_1)\n",
    "plt.show()"
   ]
  },
  {
   "cell_type": "code",
   "execution_count": 20,
   "metadata": {},
   "outputs": [
    {
     "data": {
      "text/plain": [
       "0.40589679996396677"
      ]
     },
     "execution_count": 20,
     "metadata": {},
     "output_type": "execute_result"
    }
   ],
   "source": [
    "thn_corr, _ =  pearsonr(y_pred_1, y_1)\n",
    "thn_corr"
   ]
  },
  {
   "cell_type": "markdown",
   "metadata": {
    "id": "WRvhL79nGHsQ"
   },
   "source": [
    "CNN"
   ]
  },
  {
   "cell_type": "code",
   "execution_count": 23,
   "metadata": {
    "id": "El092M22G4ou"
   },
   "outputs": [],
   "source": [
    "from tensorflow.keras.models import Sequential\n",
    "import tensorflow as tf\n",
    "from tensorflow.keras.layers import Dense, Conv1D, Flatten, Dropout, MaxPooling1D\n",
    "from sklearn.model_selection import train_test_split\n",
    "from sklearn.metrics import mean_squared_error\n",
    "import matplotlib.pyplot as plt"
   ]
  },
  {
   "cell_type": "code",
   "execution_count": 41,
   "metadata": {
    "colab": {
     "base_uri": "https://localhost:8080/"
    },
    "id": "sii1PUZpGHd3",
    "outputId": "670fbe13-378c-4e3f-9bdb-52505ef30a4c"
   },
   "outputs": [
    {
     "name": "stdout",
     "output_type": "stream",
     "text": [
      "Epoch 1/200\n",
      "5/5 [==============================] - 0s 1ms/step - loss: 8372.5166 - root_mean_squared_error: 91.5015\n",
      "Epoch 2/200\n",
      "5/5 [==============================] - 0s 1ms/step - loss: 6617.6772 - root_mean_squared_error: 81.3491\n",
      "Epoch 3/200\n",
      "5/5 [==============================] - 0s 1ms/step - loss: 5587.3999 - root_mean_squared_error: 74.7489\n",
      "Epoch 4/200\n",
      "5/5 [==============================] - 0s 1ms/step - loss: 4581.5518 - root_mean_squared_error: 67.6872\n",
      "Epoch 5/200\n",
      "5/5 [==============================] - 0s 2ms/step - loss: 3487.5781 - root_mean_squared_error: 59.0557\n",
      "Epoch 6/200\n",
      "5/5 [==============================] - 0s 1ms/step - loss: 2363.5901 - root_mean_squared_error: 48.6168\n",
      "Epoch 7/200\n",
      "5/5 [==============================] - 0s 1ms/step - loss: 1347.8695 - root_mean_squared_error: 36.7133\n",
      "Epoch 8/200\n",
      "5/5 [==============================] - 0s 2ms/step - loss: 565.3481 - root_mean_squared_error: 23.7771\n",
      "Epoch 9/200\n",
      "5/5 [==============================] - 0s 1ms/step - loss: 127.1018 - root_mean_squared_error: 11.2739\n",
      "Epoch 10/200\n",
      "5/5 [==============================] - 0s 1ms/step - loss: 21.9661 - root_mean_squared_error: 4.6868\n",
      "Epoch 11/200\n",
      "5/5 [==============================] - 0s 1ms/step - loss: 88.4255 - root_mean_squared_error: 9.4035\n",
      "Epoch 12/200\n",
      "5/5 [==============================] - 0s 2ms/step - loss: 112.2627 - root_mean_squared_error: 10.5954\n",
      "Epoch 13/200\n",
      "5/5 [==============================] - 0s 1ms/step - loss: 68.7643 - root_mean_squared_error: 8.2924\n",
      "Epoch 14/200\n",
      "5/5 [==============================] - 0s 1ms/step - loss: 26.3416 - root_mean_squared_error: 5.1324\n",
      "Epoch 15/200\n",
      "5/5 [==============================] - 0s 1ms/step - loss: 16.3690 - root_mean_squared_error: 4.0459\n",
      "Epoch 16/200\n",
      "5/5 [==============================] - 0s 1ms/step - loss: 20.4181 - root_mean_squared_error: 4.5186\n",
      "Epoch 17/200\n",
      "5/5 [==============================] - 0s 1ms/step - loss: 22.5082 - root_mean_squared_error: 4.7443\n",
      "Epoch 18/200\n",
      "5/5 [==============================] - 0s 1ms/step - loss: 19.4947 - root_mean_squared_error: 4.4153\n",
      "Epoch 19/200\n",
      "5/5 [==============================] - 0s 1ms/step - loss: 16.0896 - root_mean_squared_error: 4.0112\n",
      "Epoch 20/200\n",
      "5/5 [==============================] - 0s 1ms/step - loss: 14.7132 - root_mean_squared_error: 3.8358\n",
      "Epoch 21/200\n",
      "5/5 [==============================] - 0s 1ms/step - loss: 15.3138 - root_mean_squared_error: 3.9133\n",
      "Epoch 22/200\n",
      "5/5 [==============================] - 0s 1ms/step - loss: 15.6535 - root_mean_squared_error: 3.9564\n",
      "Epoch 23/200\n",
      "5/5 [==============================] - 0s 1ms/step - loss: 15.4356 - root_mean_squared_error: 3.9288\n",
      "Epoch 24/200\n",
      "5/5 [==============================] - 0s 1ms/step - loss: 14.9017 - root_mean_squared_error: 3.8603\n",
      "Epoch 25/200\n",
      "5/5 [==============================] - 0s 1ms/step - loss: 14.8456 - root_mean_squared_error: 3.8530\n",
      "Epoch 26/200\n",
      "5/5 [==============================] - 0s 1ms/step - loss: 14.7955 - root_mean_squared_error: 3.8465\n",
      "Epoch 27/200\n",
      "5/5 [==============================] - 0s 1ms/step - loss: 14.7986 - root_mean_squared_error: 3.8469\n",
      "Epoch 28/200\n",
      "5/5 [==============================] - 0s 1ms/step - loss: 14.6778 - root_mean_squared_error: 3.8312\n",
      "Epoch 29/200\n",
      "5/5 [==============================] - 0s 1ms/step - loss: 14.5639 - root_mean_squared_error: 3.8163\n",
      "Epoch 30/200\n",
      "5/5 [==============================] - 0s 1ms/step - loss: 14.4146 - root_mean_squared_error: 3.7967\n",
      "Epoch 31/200\n",
      "5/5 [==============================] - 0s 1ms/step - loss: 14.5348 - root_mean_squared_error: 3.8125\n",
      "Epoch 32/200\n",
      "5/5 [==============================] - 0s 1ms/step - loss: 14.6077 - root_mean_squared_error: 3.8220\n",
      "Epoch 33/200\n",
      "5/5 [==============================] - 0s 1ms/step - loss: 14.3820 - root_mean_squared_error: 3.7924\n",
      "Epoch 34/200\n",
      "5/5 [==============================] - 0s 1ms/step - loss: 14.4778 - root_mean_squared_error: 3.8050\n",
      "Epoch 35/200\n",
      "5/5 [==============================] - 0s 1ms/step - loss: 14.2445 - root_mean_squared_error: 3.7742\n",
      "Epoch 36/200\n",
      "5/5 [==============================] - 0s 1ms/step - loss: 14.1956 - root_mean_squared_error: 3.7677\n",
      "Epoch 37/200\n",
      "5/5 [==============================] - 0s 1ms/step - loss: 14.1184 - root_mean_squared_error: 3.7574\n",
      "Epoch 38/200\n",
      "5/5 [==============================] - 0s 1ms/step - loss: 14.0403 - root_mean_squared_error: 3.7470\n",
      "Epoch 39/200\n",
      "5/5 [==============================] - 0s 1ms/step - loss: 14.0090 - root_mean_squared_error: 3.7429\n",
      "Epoch 40/200\n",
      "5/5 [==============================] - 0s 1ms/step - loss: 13.9627 - root_mean_squared_error: 3.7367\n",
      "Epoch 41/200\n",
      "5/5 [==============================] - 0s 1ms/step - loss: 13.8688 - root_mean_squared_error: 3.7241\n",
      "Epoch 42/200\n",
      "5/5 [==============================] - 0s 1ms/step - loss: 13.8431 - root_mean_squared_error: 3.7206\n",
      "Epoch 43/200\n",
      "5/5 [==============================] - 0s 1ms/step - loss: 13.7853 - root_mean_squared_error: 3.7129\n",
      "Epoch 44/200\n",
      "5/5 [==============================] - 0s 1ms/step - loss: 13.7181 - root_mean_squared_error: 3.7038\n",
      "Epoch 45/200\n",
      "5/5 [==============================] - 0s 1ms/step - loss: 13.6399 - root_mean_squared_error: 3.6932\n",
      "Epoch 46/200\n",
      "5/5 [==============================] - 0s 1ms/step - loss: 13.5709 - root_mean_squared_error: 3.6839\n",
      "Epoch 47/200\n",
      "5/5 [==============================] - 0s 1ms/step - loss: 13.5045 - root_mean_squared_error: 3.6748\n",
      "Epoch 48/200\n",
      "5/5 [==============================] - 0s 1ms/step - loss: 13.5084 - root_mean_squared_error: 3.6754\n",
      "Epoch 49/200\n",
      "5/5 [==============================] - 0s 1ms/step - loss: 13.3854 - root_mean_squared_error: 3.6586\n",
      "Epoch 50/200\n",
      "5/5 [==============================] - 0s 1ms/step - loss: 13.3386 - root_mean_squared_error: 3.6522\n",
      "Epoch 51/200\n",
      "5/5 [==============================] - 0s 1ms/step - loss: 13.3333 - root_mean_squared_error: 3.6515\n",
      "Epoch 52/200\n",
      "5/5 [==============================] - 0s 1ms/step - loss: 13.2222 - root_mean_squared_error: 3.6362\n",
      "Epoch 53/200\n",
      "5/5 [==============================] - 0s 1ms/step - loss: 13.1658 - root_mean_squared_error: 3.6285\n",
      "Epoch 54/200\n",
      "5/5 [==============================] - 0s 1ms/step - loss: 13.0930 - root_mean_squared_error: 3.6184\n",
      "Epoch 55/200\n",
      "5/5 [==============================] - 0s 1ms/step - loss: 13.0128 - root_mean_squared_error: 3.6073\n",
      "Epoch 56/200\n",
      "5/5 [==============================] - 0s 1ms/step - loss: 13.2712 - root_mean_squared_error: 3.6430\n",
      "Epoch 57/200\n",
      "5/5 [==============================] - 0s 1ms/step - loss: 12.9280 - root_mean_squared_error: 3.5956\n",
      "Epoch 58/200\n",
      "5/5 [==============================] - 0s 1ms/step - loss: 12.9988 - root_mean_squared_error: 3.6054\n",
      "Epoch 59/200\n",
      "5/5 [==============================] - 0s 2ms/step - loss: 12.8223 - root_mean_squared_error: 3.5808\n",
      "Epoch 60/200\n",
      "5/5 [==============================] - 0s 1ms/step - loss: 12.7675 - root_mean_squared_error: 3.5732\n",
      "Epoch 61/200\n",
      "5/5 [==============================] - 0s 1ms/step - loss: 12.7339 - root_mean_squared_error: 3.5685\n",
      "Epoch 62/200\n",
      "5/5 [==============================] - 0s 1ms/step - loss: 12.6380 - root_mean_squared_error: 3.5550\n",
      "Epoch 63/200\n",
      "5/5 [==============================] - 0s 2ms/step - loss: 12.7402 - root_mean_squared_error: 3.5693\n",
      "Epoch 64/200\n",
      "5/5 [==============================] - 0s 1ms/step - loss: 12.6112 - root_mean_squared_error: 3.5512\n",
      "Epoch 65/200\n",
      "5/5 [==============================] - 0s 1ms/step - loss: 12.6454 - root_mean_squared_error: 3.5560\n",
      "Epoch 66/200\n",
      "5/5 [==============================] - 0s 1ms/step - loss: 12.4613 - root_mean_squared_error: 3.5301\n",
      "Epoch 67/200\n",
      "5/5 [==============================] - 0s 1ms/step - loss: 12.4513 - root_mean_squared_error: 3.5286\n",
      "Epoch 68/200\n",
      "5/5 [==============================] - 0s 1ms/step - loss: 12.3244 - root_mean_squared_error: 3.5106\n",
      "Epoch 69/200\n",
      "5/5 [==============================] - 0s 1ms/step - loss: 12.2271 - root_mean_squared_error: 3.4967\n",
      "Epoch 70/200\n",
      "5/5 [==============================] - 0s 1ms/step - loss: 12.2227 - root_mean_squared_error: 3.4961\n",
      "Epoch 71/200\n",
      "5/5 [==============================] - 0s 1ms/step - loss: 12.1297 - root_mean_squared_error: 3.4828\n",
      "Epoch 72/200\n"
     ]
    },
    {
     "name": "stdout",
     "output_type": "stream",
     "text": [
      "5/5 [==============================] - 0s 1ms/step - loss: 12.0771 - root_mean_squared_error: 3.4752\n",
      "Epoch 73/200\n",
      "5/5 [==============================] - 0s 1ms/step - loss: 12.0601 - root_mean_squared_error: 3.4728\n",
      "Epoch 74/200\n",
      "5/5 [==============================] - 0s 1ms/step - loss: 11.9749 - root_mean_squared_error: 3.4605\n",
      "Epoch 75/200\n",
      "5/5 [==============================] - 0s 1ms/step - loss: 11.9922 - root_mean_squared_error: 3.4630\n",
      "Epoch 76/200\n",
      "5/5 [==============================] - 0s 1ms/step - loss: 11.9793 - root_mean_squared_error: 3.4611\n",
      "Epoch 77/200\n",
      "5/5 [==============================] - 0s 1ms/step - loss: 11.8510 - root_mean_squared_error: 3.4425\n",
      "Epoch 78/200\n",
      "5/5 [==============================] - 0s 1ms/step - loss: 11.7910 - root_mean_squared_error: 3.4338\n",
      "Epoch 79/200\n",
      "5/5 [==============================] - 0s 1ms/step - loss: 11.7968 - root_mean_squared_error: 3.4347\n",
      "Epoch 80/200\n",
      "5/5 [==============================] - 0s 1ms/step - loss: 11.7738 - root_mean_squared_error: 3.4313\n",
      "Epoch 81/200\n",
      "5/5 [==============================] - 0s 1ms/step - loss: 11.7760 - root_mean_squared_error: 3.4316\n",
      "Epoch 82/200\n",
      "5/5 [==============================] - 0s 1ms/step - loss: 11.8899 - root_mean_squared_error: 3.4482\n",
      "Epoch 83/200\n",
      "5/5 [==============================] - 0s 1ms/step - loss: 11.6036 - root_mean_squared_error: 3.4064\n",
      "Epoch 84/200\n",
      "5/5 [==============================] - 0s 1ms/step - loss: 11.6771 - root_mean_squared_error: 3.4172\n",
      "Epoch 85/200\n",
      "5/5 [==============================] - 0s 1ms/step - loss: 11.5047 - root_mean_squared_error: 3.3919\n",
      "Epoch 86/200\n",
      "5/5 [==============================] - 0s 1ms/step - loss: 11.4233 - root_mean_squared_error: 3.3798\n",
      "Epoch 87/200\n",
      "5/5 [==============================] - 0s 1ms/step - loss: 11.4325 - root_mean_squared_error: 3.3812\n",
      "Epoch 88/200\n",
      "5/5 [==============================] - 0s 1ms/step - loss: 11.4899 - root_mean_squared_error: 3.3897\n",
      "Epoch 89/200\n",
      "5/5 [==============================] - 0s 1ms/step - loss: 11.2461 - root_mean_squared_error: 3.3535\n",
      "Epoch 90/200\n",
      "5/5 [==============================] - 0s 1ms/step - loss: 11.4121 - root_mean_squared_error: 3.3782\n",
      "Epoch 91/200\n",
      "5/5 [==============================] - 0s 1ms/step - loss: 11.3892 - root_mean_squared_error: 3.3748\n",
      "Epoch 92/200\n",
      "5/5 [==============================] - 0s 1ms/step - loss: 11.6009 - root_mean_squared_error: 3.4060\n",
      "Epoch 93/200\n",
      "5/5 [==============================] - 0s 1ms/step - loss: 11.2392 - root_mean_squared_error: 3.3525\n",
      "Epoch 94/200\n",
      "5/5 [==============================] - 0s 1ms/step - loss: 11.1942 - root_mean_squared_error: 3.3458\n",
      "Epoch 95/200\n",
      "5/5 [==============================] - 0s 1ms/step - loss: 11.0986 - root_mean_squared_error: 3.3315\n",
      "Epoch 96/200\n",
      "5/5 [==============================] - 0s 1ms/step - loss: 11.0590 - root_mean_squared_error: 3.3255\n",
      "Epoch 97/200\n",
      "5/5 [==============================] - 0s 1ms/step - loss: 11.0045 - root_mean_squared_error: 3.3173\n",
      "Epoch 98/200\n",
      "5/5 [==============================] - 0s 1ms/step - loss: 10.8952 - root_mean_squared_error: 3.3008\n",
      "Epoch 99/200\n",
      "5/5 [==============================] - 0s 1ms/step - loss: 10.8775 - root_mean_squared_error: 3.2981\n",
      "Epoch 100/200\n",
      "5/5 [==============================] - 0s 1ms/step - loss: 10.8426 - root_mean_squared_error: 3.2928\n",
      "Epoch 101/200\n",
      "5/5 [==============================] - 0s 1ms/step - loss: 10.8323 - root_mean_squared_error: 3.2913\n",
      "Epoch 102/200\n",
      "5/5 [==============================] - 0s 1ms/step - loss: 10.7014 - root_mean_squared_error: 3.2713\n",
      "Epoch 103/200\n",
      "5/5 [==============================] - 0s 1ms/step - loss: 10.6918 - root_mean_squared_error: 3.2698\n",
      "Epoch 104/200\n",
      "5/5 [==============================] - 0s 1ms/step - loss: 10.6394 - root_mean_squared_error: 3.2618\n",
      "Epoch 105/200\n",
      "5/5 [==============================] - 0s 1ms/step - loss: 10.6026 - root_mean_squared_error: 3.2562\n",
      "Epoch 106/200\n",
      "5/5 [==============================] - 0s 1ms/step - loss: 10.7190 - root_mean_squared_error: 3.2740\n",
      "Epoch 107/200\n",
      "5/5 [==============================] - 0s 1ms/step - loss: 10.6495 - root_mean_squared_error: 3.2634\n",
      "Epoch 108/200\n",
      "5/5 [==============================] - 0s 1ms/step - loss: 10.5142 - root_mean_squared_error: 3.2426\n",
      "Epoch 109/200\n",
      "5/5 [==============================] - 0s 1ms/step - loss: 10.4962 - root_mean_squared_error: 3.2398\n",
      "Epoch 110/200\n",
      "5/5 [==============================] - 0s 1ms/step - loss: 10.8960 - root_mean_squared_error: 3.3009\n",
      "Epoch 111/200\n",
      "5/5 [==============================] - 0s 1ms/step - loss: 10.5422 - root_mean_squared_error: 3.2469\n",
      "Epoch 112/200\n",
      "5/5 [==============================] - 0s 1ms/step - loss: 10.5970 - root_mean_squared_error: 3.2553\n",
      "Epoch 113/200\n",
      "5/5 [==============================] - 0s 1ms/step - loss: 10.3393 - root_mean_squared_error: 3.2155\n",
      "Epoch 114/200\n",
      "5/5 [==============================] - 0s 1ms/step - loss: 10.2579 - root_mean_squared_error: 3.2028\n",
      "Epoch 115/200\n",
      "5/5 [==============================] - 0s 1ms/step - loss: 10.5322 - root_mean_squared_error: 3.2453\n",
      "Epoch 116/200\n",
      "5/5 [==============================] - 0s 1ms/step - loss: 10.2159 - root_mean_squared_error: 3.1962\n",
      "Epoch 117/200\n",
      "5/5 [==============================] - 0s 1ms/step - loss: 10.2750 - root_mean_squared_error: 3.2055\n",
      "Epoch 118/200\n",
      "5/5 [==============================] - 0s 1ms/step - loss: 10.2621 - root_mean_squared_error: 3.2035\n",
      "Epoch 119/200\n",
      "5/5 [==============================] - 0s 1ms/step - loss: 10.1412 - root_mean_squared_error: 3.1845\n",
      "Epoch 120/200\n",
      "5/5 [==============================] - 0s 1ms/step - loss: 10.1495 - root_mean_squared_error: 3.1858\n",
      "Epoch 121/200\n",
      "5/5 [==============================] - 0s 1ms/step - loss: 10.0551 - root_mean_squared_error: 3.1710\n",
      "Epoch 122/200\n",
      "5/5 [==============================] - 0s 1ms/step - loss: 10.1284 - root_mean_squared_error: 3.1825\n",
      "Epoch 123/200\n",
      "5/5 [==============================] - 0s 1ms/step - loss: 9.9924 - root_mean_squared_error: 3.1611\n",
      "Epoch 124/200\n",
      "5/5 [==============================] - 0s 1ms/step - loss: 10.0260 - root_mean_squared_error: 3.1664\n",
      "Epoch 125/200\n",
      "5/5 [==============================] - 0s 1ms/step - loss: 10.0552 - root_mean_squared_error: 3.1710\n",
      "Epoch 126/200\n",
      "5/5 [==============================] - 0s 1ms/step - loss: 10.0448 - root_mean_squared_error: 3.1694\n",
      "Epoch 127/200\n",
      "5/5 [==============================] - 0s 1ms/step - loss: 9.8558 - root_mean_squared_error: 3.1394\n",
      "Epoch 128/200\n",
      "5/5 [==============================] - 0s 1ms/step - loss: 10.2971 - root_mean_squared_error: 3.2089\n",
      "Epoch 129/200\n",
      "5/5 [==============================] - 0s 1ms/step - loss: 9.9119 - root_mean_squared_error: 3.1483\n",
      "Epoch 130/200\n",
      "5/5 [==============================] - 0s 1ms/step - loss: 10.0214 - root_mean_squared_error: 3.1657\n",
      "Epoch 131/200\n",
      "5/5 [==============================] - 0s 1ms/step - loss: 9.8950 - root_mean_squared_error: 3.1456\n",
      "Epoch 132/200\n",
      "5/5 [==============================] - 0s 1ms/step - loss: 9.6845 - root_mean_squared_error: 3.1120\n",
      "Epoch 133/200\n",
      "5/5 [==============================] - 0s 1ms/step - loss: 10.3694 - root_mean_squared_error: 3.2201\n",
      "Epoch 134/200\n",
      "5/5 [==============================] - 0s 1ms/step - loss: 9.9261 - root_mean_squared_error: 3.1506\n",
      "Epoch 135/200\n",
      "5/5 [==============================] - 0s 1ms/step - loss: 9.8820 - root_mean_squared_error: 3.1436\n",
      "Epoch 136/200\n",
      "5/5 [==============================] - 0s 1ms/step - loss: 9.8966 - root_mean_squared_error: 3.1459\n",
      "Epoch 137/200\n",
      "5/5 [==============================] - 0s 1ms/step - loss: 9.6251 - root_mean_squared_error: 3.1024\n",
      "Epoch 138/200\n",
      "5/5 [==============================] - 0s 1ms/step - loss: 9.8321 - root_mean_squared_error: 3.1356\n",
      "Epoch 139/200\n",
      "5/5 [==============================] - 0s 1ms/step - loss: 9.7488 - root_mean_squared_error: 3.1223\n",
      "Epoch 140/200\n",
      "5/5 [==============================] - 0s 1ms/step - loss: 9.4981 - root_mean_squared_error: 3.0819\n",
      "Epoch 141/200\n",
      "5/5 [==============================] - 0s 1ms/step - loss: 9.9922 - root_mean_squared_error: 3.1610\n",
      "Epoch 142/200\n",
      "5/5 [==============================] - 0s 1ms/step - loss: 9.8301 - root_mean_squared_error: 3.1353\n",
      "Epoch 143/200\n"
     ]
    },
    {
     "name": "stdout",
     "output_type": "stream",
     "text": [
      "5/5 [==============================] - 0s 1ms/step - loss: 9.8790 - root_mean_squared_error: 3.1431\n",
      "Epoch 144/200\n",
      "5/5 [==============================] - 0s 1ms/step - loss: 9.5625 - root_mean_squared_error: 3.0923\n",
      "Epoch 145/200\n",
      "5/5 [==============================] - 0s 1ms/step - loss: 9.5899 - root_mean_squared_error: 3.0968\n",
      "Epoch 146/200\n",
      "5/5 [==============================] - 0s 1ms/step - loss: 9.5484 - root_mean_squared_error: 3.0901\n",
      "Epoch 147/200\n",
      "5/5 [==============================] - 0s 1ms/step - loss: 9.5529 - root_mean_squared_error: 3.0908\n",
      "Epoch 148/200\n",
      "5/5 [==============================] - 0s 1ms/step - loss: 9.4944 - root_mean_squared_error: 3.0813\n",
      "Epoch 149/200\n",
      "5/5 [==============================] - 0s 1ms/step - loss: 9.5437 - root_mean_squared_error: 3.0893\n",
      "Epoch 150/200\n",
      "5/5 [==============================] - 0s 1ms/step - loss: 9.5243 - root_mean_squared_error: 3.0861\n",
      "Epoch 151/200\n",
      "5/5 [==============================] - 0s 1ms/step - loss: 9.3789 - root_mean_squared_error: 3.0625\n",
      "Epoch 152/200\n",
      "5/5 [==============================] - 0s 1ms/step - loss: 9.5171 - root_mean_squared_error: 3.0850\n",
      "Epoch 153/200\n",
      "5/5 [==============================] - 0s 1ms/step - loss: 9.5097 - root_mean_squared_error: 3.0838\n",
      "Epoch 154/200\n",
      "5/5 [==============================] - 0s 1ms/step - loss: 9.4635 - root_mean_squared_error: 3.0763\n",
      "Epoch 155/200\n",
      "5/5 [==============================] - 0s 1ms/step - loss: 9.5923 - root_mean_squared_error: 3.0971\n",
      "Epoch 156/200\n",
      "5/5 [==============================] - 0s 1ms/step - loss: 9.6745 - root_mean_squared_error: 3.1104\n",
      "Epoch 157/200\n",
      "5/5 [==============================] - 0s 1ms/step - loss: 9.2543 - root_mean_squared_error: 3.0421\n",
      "Epoch 158/200\n",
      "5/5 [==============================] - 0s 1ms/step - loss: 9.4106 - root_mean_squared_error: 3.0677\n",
      "Epoch 159/200\n",
      "5/5 [==============================] - 0s 1ms/step - loss: 9.5658 - root_mean_squared_error: 3.0929\n",
      "Epoch 160/200\n",
      "5/5 [==============================] - 0s 1ms/step - loss: 9.2997 - root_mean_squared_error: 3.0495\n",
      "Epoch 161/200\n",
      "5/5 [==============================] - 0s 1ms/step - loss: 9.2808 - root_mean_squared_error: 3.0464\n",
      "Epoch 162/200\n",
      "5/5 [==============================] - 0s 1ms/step - loss: 9.4592 - root_mean_squared_error: 3.0756\n",
      "Epoch 163/200\n",
      "5/5 [==============================] - 0s 1ms/step - loss: 9.4342 - root_mean_squared_error: 3.0715\n",
      "Epoch 164/200\n",
      "5/5 [==============================] - 0s 1ms/step - loss: 9.3302 - root_mean_squared_error: 3.0545\n",
      "Epoch 165/200\n",
      "5/5 [==============================] - 0s 1ms/step - loss: 9.3655 - root_mean_squared_error: 3.0603\n",
      "Epoch 166/200\n",
      "5/5 [==============================] - 0s 1ms/step - loss: 9.2501 - root_mean_squared_error: 3.0414\n",
      "Epoch 167/200\n",
      "5/5 [==============================] - 0s 1ms/step - loss: 9.2555 - root_mean_squared_error: 3.0423\n",
      "Epoch 168/200\n",
      "5/5 [==============================] - 0s 1ms/step - loss: 9.3044 - root_mean_squared_error: 3.0503\n",
      "Epoch 169/200\n",
      "5/5 [==============================] - 0s 1ms/step - loss: 9.2339 - root_mean_squared_error: 3.0387\n",
      "Epoch 170/200\n",
      "5/5 [==============================] - 0s 1ms/step - loss: 9.2342 - root_mean_squared_error: 3.0388\n",
      "Epoch 171/200\n",
      "5/5 [==============================] - 0s 1ms/step - loss: 9.3396 - root_mean_squared_error: 3.0561\n",
      "Epoch 172/200\n",
      "5/5 [==============================] - 0s 1ms/step - loss: 9.2174 - root_mean_squared_error: 3.0360\n",
      "Epoch 173/200\n",
      "5/5 [==============================] - 0s 1ms/step - loss: 9.2254 - root_mean_squared_error: 3.0373\n",
      "Epoch 174/200\n",
      "5/5 [==============================] - 0s 1ms/step - loss: 9.3173 - root_mean_squared_error: 3.0524\n",
      "Epoch 175/200\n",
      "5/5 [==============================] - 0s 1ms/step - loss: 9.2306 - root_mean_squared_error: 3.0382\n",
      "Epoch 176/200\n",
      "5/5 [==============================] - 0s 1ms/step - loss: 9.1387 - root_mean_squared_error: 3.0230\n",
      "Epoch 177/200\n",
      "5/5 [==============================] - 0s 1ms/step - loss: 9.2305 - root_mean_squared_error: 3.0382\n",
      "Epoch 178/200\n",
      "5/5 [==============================] - 0s 2ms/step - loss: 9.0213 - root_mean_squared_error: 3.0035\n",
      "Epoch 179/200\n",
      "5/5 [==============================] - 0s 2ms/step - loss: 9.1431 - root_mean_squared_error: 3.0238\n",
      "Epoch 180/200\n",
      "5/5 [==============================] - 0s 1ms/step - loss: 9.0856 - root_mean_squared_error: 3.0142\n",
      "Epoch 181/200\n",
      "5/5 [==============================] - 0s 1ms/step - loss: 9.1215 - root_mean_squared_error: 3.0202\n",
      "Epoch 182/200\n",
      "5/5 [==============================] - 0s 1ms/step - loss: 9.1674 - root_mean_squared_error: 3.0278\n",
      "Epoch 183/200\n",
      "5/5 [==============================] - 0s 1ms/step - loss: 9.2030 - root_mean_squared_error: 3.0336\n",
      "Epoch 184/200\n",
      "5/5 [==============================] - 0s 1ms/step - loss: 9.0332 - root_mean_squared_error: 3.0055\n",
      "Epoch 185/200\n",
      "5/5 [==============================] - 0s 1ms/step - loss: 9.2876 - root_mean_squared_error: 3.0476\n",
      "Epoch 186/200\n",
      "5/5 [==============================] - 0s 1ms/step - loss: 9.1433 - root_mean_squared_error: 3.0238\n",
      "Epoch 187/200\n",
      "5/5 [==============================] - 0s 1ms/step - loss: 9.2010 - root_mean_squared_error: 3.0333\n",
      "Epoch 188/200\n",
      "5/5 [==============================] - 0s 1ms/step - loss: 9.4522 - root_mean_squared_error: 3.0744\n",
      "Epoch 189/200\n",
      "5/5 [==============================] - 0s 1ms/step - loss: 9.0112 - root_mean_squared_error: 3.0019\n",
      "Epoch 190/200\n",
      "5/5 [==============================] - 0s 1ms/step - loss: 9.0124 - root_mean_squared_error: 3.0021\n",
      "Epoch 191/200\n",
      "5/5 [==============================] - 0s 1ms/step - loss: 9.0291 - root_mean_squared_error: 3.0048\n",
      "Epoch 192/200\n",
      "5/5 [==============================] - 0s 1ms/step - loss: 9.0114 - root_mean_squared_error: 3.0019\n",
      "Epoch 193/200\n",
      "5/5 [==============================] - 0s 1ms/step - loss: 8.9487 - root_mean_squared_error: 2.9914\n",
      "Epoch 194/200\n",
      "5/5 [==============================] - 0s 1ms/step - loss: 9.1946 - root_mean_squared_error: 3.0323\n",
      "Epoch 195/200\n",
      "5/5 [==============================] - 0s 1ms/step - loss: 9.1247 - root_mean_squared_error: 3.0207\n",
      "Epoch 196/200\n",
      "5/5 [==============================] - 0s 1ms/step - loss: 8.8889 - root_mean_squared_error: 2.9814\n",
      "Epoch 197/200\n",
      "5/5 [==============================] - 0s 1ms/step - loss: 9.0931 - root_mean_squared_error: 3.0155\n",
      "Epoch 198/200\n",
      "5/5 [==============================] - 0s 1ms/step - loss: 8.9228 - root_mean_squared_error: 2.9871\n",
      "Epoch 199/200\n",
      "5/5 [==============================] - 0s 1ms/step - loss: 9.2601 - root_mean_squared_error: 3.0430\n",
      "Epoch 200/200\n",
      "5/5 [==============================] - 0s 1ms/step - loss: 9.0868 - root_mean_squared_error: 3.0144\n"
     ]
    },
    {
     "data": {
      "text/plain": [
       "<tensorflow.python.keras.callbacks.History at 0x7fc7e5902050>"
      ]
     },
     "execution_count": 41,
     "metadata": {},
     "output_type": "execute_result"
    }
   ],
   "source": [
    "x_0 = x_0.reshape(x_0.shape[0], x_0.shape[1], 1)\n",
    "\n",
    "xtrain, xtest, ytrain, ytest = train_test_split(x_0, y_0, test_size=0.33)\n",
    "\n",
    "model = Sequential()\n",
    "model.add(Conv1D(100, 2, activation=\"relu\", input_shape=(6,1)))\n",
    "# model.add(Conv1D(100, 2, activation=\"relu\", input_shape=(6,1)))\n",
    "# model.add(MaxPooling1D(pool_size = 2))\n",
    "# model.add(Conv1D(64, 2, activation=\"relu\", input_shape=(6,1)))\n",
    "# # model.add(Conv1D(32, 2, activation=\"relu\", input_shape=(6,1)))\n",
    "model.add(MaxPooling1D(pool_size = 1))\n",
    "model.add(Flatten())\n",
    "# model.add(Dense(50, activation=\"relu\"))\n",
    "# model.add(Dense(5, activation=\"softmax\"))\n",
    "# model.compile(loss=\"mse\", optimizer=\"adam\")\n",
    "\n",
    "model.add(Dense(100, activation='relu'))\n",
    "# model.add(Dense(100, activation='relu'))\n",
    "model.add(Dense(1, activation='linear'))\n",
    "\n",
    "# compile the model\n",
    "model.compile(optimizer='adam', loss='mse', metrics=[tf.keras.metrics.RootMeanSquaredError()])\n",
    "\n",
    "model.fit(xtrain, ytrain, batch_size=12,epochs=200)"
   ]
  },
  {
   "cell_type": "code",
   "execution_count": 25,
   "metadata": {},
   "outputs": [],
   "source": [
    "preds = model.predict(xtest)"
   ]
  },
  {
   "cell_type": "code",
   "execution_count": 26,
   "metadata": {},
   "outputs": [
    {
     "data": {
      "image/png": "[encoded data removed]",
      "text/plain": [
       "<Figure size 432x288 with 1 Axes>"
      ]
     },
     "metadata": {
      "needs_background": "light"
     },
     "output_type": "display_data"
    }
   ],
   "source": [
    "plt.scatter(preds, ytest)\n",
    "plt.show()"
   ]
  },
  {
   "cell_type": "code",
   "execution_count": 34,
   "metadata": {},
   "outputs": [
    {
     "data": {
      "text/plain": [
       "0.2385454191016819"
      ]
     },
     "execution_count": 34,
     "metadata": {},
     "output_type": "execute_result"
    }
   ],
   "source": [
    "cnn_corr, _ =  pearsonr(preds.T[0], ytest)\n",
    "cnn_corr"
   ]
  },
  {
   "cell_type": "code",
   "execution_count": 42,
   "metadata": {},
   "outputs": [
    {
     "data": {
      "text/plain": [
       "4.048620284694579"
      ]
     },
     "execution_count": 42,
     "metadata": {},
     "output_type": "execute_result"
    }
   ],
   "source": [
    "np.sqrt(np.sum((preds.T[0] - ytest)**2) / len(ytest))"
   ]
  },
  {
   "cell_type": "code",
   "execution_count": null,
   "metadata": {},
   "outputs": [],
   "source": []
  },
  {
   "cell_type": "code",
   "execution_count": 35,
   "metadata": {},
   "outputs": [
    {
     "name": "stdout",
     "output_type": "stream",
     "text": [
      "Epoch 1/200\n",
      "7/7 [==============================] - 0s 1ms/step - loss: 7643.4106 - root_mean_squared_error: 87.4266\n",
      "Epoch 2/200\n",
      "7/7 [==============================] - 0s 2ms/step - loss: 6058.1938 - root_mean_squared_error: 77.8344\n",
      "Epoch 3/200\n",
      "7/7 [==============================] - 0s 1ms/step - loss: 4515.6816 - root_mean_squared_error: 67.1988\n",
      "Epoch 4/200\n",
      "7/7 [==============================] - 0s 1ms/step - loss: 2848.3191 - root_mean_squared_error: 53.3696\n",
      "Epoch 5/200\n",
      "7/7 [==============================] - 0s 1ms/step - loss: 1300.5879 - root_mean_squared_error: 36.0637\n",
      "Epoch 6/200\n",
      "7/7 [==============================] - 0s 2ms/step - loss: 293.2946 - root_mean_squared_error: 17.1258\n",
      "Epoch 7/200\n",
      "7/7 [==============================] - 0s 1ms/step - loss: 73.8168 - root_mean_squared_error: 8.5917\n",
      "Epoch 8/200\n",
      "7/7 [==============================] - 0s 1ms/step - loss: 139.0379 - root_mean_squared_error: 11.7914\n",
      "Epoch 9/200\n",
      "7/7 [==============================] - 0s 1ms/step - loss: 80.1060 - root_mean_squared_error: 8.9502\n",
      "Epoch 10/200\n",
      "7/7 [==============================] - 0s 1ms/step - loss: 39.2015 - root_mean_squared_error: 6.2611\n",
      "Epoch 11/200\n",
      "7/7 [==============================] - 0s 1ms/step - loss: 45.5815 - root_mean_squared_error: 6.7514\n",
      "Epoch 12/200\n",
      "7/7 [==============================] - 0s 1ms/step - loss: 43.2458 - root_mean_squared_error: 6.5762\n",
      "Epoch 13/200\n",
      "7/7 [==============================] - 0s 1ms/step - loss: 37.2044 - root_mean_squared_error: 6.0995\n",
      "Epoch 14/200\n",
      "7/7 [==============================] - 0s 1ms/step - loss: 37.4148 - root_mean_squared_error: 6.1168\n",
      "Epoch 15/200\n",
      "7/7 [==============================] - 0s 1ms/step - loss: 36.6450 - root_mean_squared_error: 6.0535\n",
      "Epoch 16/200\n",
      "7/7 [==============================] - 0s 1ms/step - loss: 35.7868 - root_mean_squared_error: 5.9822\n",
      "Epoch 17/200\n",
      "7/7 [==============================] - 0s 1ms/step - loss: 35.6835 - root_mean_squared_error: 5.9736\n",
      "Epoch 18/200\n",
      "7/7 [==============================] - 0s 1ms/step - loss: 35.4602 - root_mean_squared_error: 5.9548\n",
      "Epoch 19/200\n",
      "7/7 [==============================] - 0s 1ms/step - loss: 35.0130 - root_mean_squared_error: 5.9172\n",
      "Epoch 20/200\n",
      "7/7 [==============================] - 0s 1ms/step - loss: 34.2800 - root_mean_squared_error: 5.8549\n",
      "Epoch 21/200\n",
      "7/7 [==============================] - 0s 1ms/step - loss: 33.9031 - root_mean_squared_error: 5.8226\n",
      "Epoch 22/200\n",
      "7/7 [==============================] - 0s 1ms/step - loss: 33.9580 - root_mean_squared_error: 5.8274\n",
      "Epoch 23/200\n",
      "7/7 [==============================] - 0s 1ms/step - loss: 33.2664 - root_mean_squared_error: 5.7677\n",
      "Epoch 24/200\n",
      "7/7 [==============================] - 0s 1ms/step - loss: 32.6493 - root_mean_squared_error: 5.7140\n",
      "Epoch 25/200\n",
      "7/7 [==============================] - 0s 1ms/step - loss: 32.2201 - root_mean_squared_error: 5.6763\n",
      "Epoch 26/200\n",
      "7/7 [==============================] - 0s 1ms/step - loss: 32.1623 - root_mean_squared_error: 5.6712\n",
      "Epoch 27/200\n",
      "7/7 [==============================] - 0s 1ms/step - loss: 31.4968 - root_mean_squared_error: 5.6122\n",
      "Epoch 28/200\n",
      "7/7 [==============================] - 0s 2ms/step - loss: 31.0479 - root_mean_squared_error: 5.5721\n",
      "Epoch 29/200\n",
      "7/7 [==============================] - 0s 1ms/step - loss: 30.6228 - root_mean_squared_error: 5.5338\n",
      "Epoch 30/200\n",
      "7/7 [==============================] - 0s 1ms/step - loss: 30.4078 - root_mean_squared_error: 5.5143\n",
      "Epoch 31/200\n",
      "7/7 [==============================] - 0s 1ms/step - loss: 31.1500 - root_mean_squared_error: 5.5812\n",
      "Epoch 32/200\n",
      "7/7 [==============================] - 0s 1ms/step - loss: 29.7340 - root_mean_squared_error: 5.4529\n",
      "Epoch 33/200\n",
      "7/7 [==============================] - 0s 1ms/step - loss: 29.3101 - root_mean_squared_error: 5.4139\n",
      "Epoch 34/200\n",
      "7/7 [==============================] - 0s 1ms/step - loss: 28.9861 - root_mean_squared_error: 5.3839\n",
      "Epoch 35/200\n",
      "7/7 [==============================] - 0s 1ms/step - loss: 28.5416 - root_mean_squared_error: 5.3424\n",
      "Epoch 36/200\n",
      "7/7 [==============================] - 0s 2ms/step - loss: 28.7154 - root_mean_squared_error: 5.3587\n",
      "Epoch 37/200\n",
      "7/7 [==============================] - 0s 2ms/step - loss: 28.1866 - root_mean_squared_error: 5.3091\n",
      "Epoch 38/200\n",
      "7/7 [==============================] - 0s 1ms/step - loss: 27.7981 - root_mean_squared_error: 5.2724\n",
      "Epoch 39/200\n",
      "7/7 [==============================] - 0s 1ms/step - loss: 27.4898 - root_mean_squared_error: 5.2431\n",
      "Epoch 40/200\n",
      "7/7 [==============================] - 0s 1ms/step - loss: 27.1940 - root_mean_squared_error: 5.2148\n",
      "Epoch 41/200\n",
      "7/7 [==============================] - 0s 1ms/step - loss: 27.5776 - root_mean_squared_error: 5.2514\n",
      "Epoch 42/200\n",
      "7/7 [==============================] - 0s 1ms/step - loss: 27.0321 - root_mean_squared_error: 5.1992\n",
      "Epoch 43/200\n",
      "7/7 [==============================] - 0s 1ms/step - loss: 26.8525 - root_mean_squared_error: 5.1819\n",
      "Epoch 44/200\n",
      "7/7 [==============================] - 0s 1ms/step - loss: 26.2709 - root_mean_squared_error: 5.1255\n",
      "Epoch 45/200\n",
      "7/7 [==============================] - 0s 1ms/step - loss: 26.3360 - root_mean_squared_error: 5.1319\n",
      "Epoch 46/200\n",
      "7/7 [==============================] - 0s 1ms/step - loss: 25.8622 - root_mean_squared_error: 5.0855\n",
      "Epoch 47/200\n",
      "7/7 [==============================] - 0s 1ms/step - loss: 25.8884 - root_mean_squared_error: 5.0881\n",
      "Epoch 48/200\n",
      "7/7 [==============================] - 0s 1ms/step - loss: 25.5271 - root_mean_squared_error: 5.0524\n",
      "Epoch 49/200\n",
      "7/7 [==============================] - 0s 1ms/step - loss: 25.1745 - root_mean_squared_error: 5.0174\n",
      "Epoch 50/200\n",
      "7/7 [==============================] - 0s 1ms/step - loss: 25.1488 - root_mean_squared_error: 5.0149\n",
      "Epoch 51/200\n",
      "7/7 [==============================] - 0s 1ms/step - loss: 25.5198 - root_mean_squared_error: 5.0517\n",
      "Epoch 52/200\n",
      "7/7 [==============================] - 0s 1ms/step - loss: 24.8709 - root_mean_squared_error: 4.9871\n",
      "Epoch 53/200\n",
      "7/7 [==============================] - 0s 1ms/step - loss: 25.0124 - root_mean_squared_error: 5.0012\n",
      "Epoch 54/200\n",
      "7/7 [==============================] - 0s 1ms/step - loss: 24.7357 - root_mean_squared_error: 4.9735\n",
      "Epoch 55/200\n",
      "7/7 [==============================] - 0s 1ms/step - loss: 24.4700 - root_mean_squared_error: 4.9467\n",
      "Epoch 56/200\n",
      "7/7 [==============================] - 0s 1ms/step - loss: 24.1458 - root_mean_squared_error: 4.9138\n",
      "Epoch 57/200\n",
      "7/7 [==============================] - 0s 1ms/step - loss: 24.1698 - root_mean_squared_error: 4.9163\n",
      "Epoch 58/200\n",
      "7/7 [==============================] - 0s 1ms/step - loss: 24.9098 - root_mean_squared_error: 4.9910\n",
      "Epoch 59/200\n",
      "7/7 [==============================] - 0s 1ms/step - loss: 24.5465 - root_mean_squared_error: 4.9544\n",
      "Epoch 60/200\n",
      "7/7 [==============================] - 0s 1ms/step - loss: 23.6800 - root_mean_squared_error: 4.8662\n",
      "Epoch 61/200\n",
      "7/7 [==============================] - 0s 1ms/step - loss: 23.7934 - root_mean_squared_error: 4.8778\n",
      "Epoch 62/200\n",
      "7/7 [==============================] - 0s 2ms/step - loss: 23.5323 - root_mean_squared_error: 4.8510\n",
      "Epoch 63/200\n",
      "7/7 [==============================] - 0s 1ms/step - loss: 23.2845 - root_mean_squared_error: 4.8254\n",
      "Epoch 64/200\n",
      "7/7 [==============================] - 0s 2ms/step - loss: 23.4637 - root_mean_squared_error: 4.8439\n",
      "Epoch 65/200\n",
      "7/7 [==============================] - 0s 2ms/step - loss: 23.2770 - root_mean_squared_error: 4.8246\n",
      "Epoch 66/200\n",
      "7/7 [==============================] - 0s 1ms/step - loss: 23.2503 - root_mean_squared_error: 4.8219\n",
      "Epoch 67/200\n",
      "7/7 [==============================] - 0s 2ms/step - loss: 22.9089 - root_mean_squared_error: 4.7863\n",
      "Epoch 68/200\n",
      "7/7 [==============================] - 0s 1ms/step - loss: 23.0327 - root_mean_squared_error: 4.7992\n",
      "Epoch 69/200\n",
      "7/7 [==============================] - 0s 2ms/step - loss: 24.2165 - root_mean_squared_error: 4.9210\n",
      "Epoch 70/200\n",
      "7/7 [==============================] - 0s 1ms/step - loss: 24.2496 - root_mean_squared_error: 4.9244\n",
      "Epoch 71/200\n",
      "7/7 [==============================] - 0s 2ms/step - loss: 23.7107 - root_mean_squared_error: 4.8694\n",
      "Epoch 72/200\n"
     ]
    },
    {
     "name": "stdout",
     "output_type": "stream",
     "text": [
      "7/7 [==============================] - 0s 1ms/step - loss: 23.9744 - root_mean_squared_error: 4.8964\n",
      "Epoch 73/200\n",
      "7/7 [==============================] - 0s 1ms/step - loss: 22.6797 - root_mean_squared_error: 4.7623\n",
      "Epoch 74/200\n",
      "7/7 [==============================] - 0s 2ms/step - loss: 23.0176 - root_mean_squared_error: 4.7977\n",
      "Epoch 75/200\n",
      "7/7 [==============================] - 0s 2ms/step - loss: 22.8807 - root_mean_squared_error: 4.7834\n",
      "Epoch 76/200\n",
      "7/7 [==============================] - 0s 2ms/step - loss: 22.4047 - root_mean_squared_error: 4.7334\n",
      "Epoch 77/200\n",
      "7/7 [==============================] - 0s 1ms/step - loss: 23.2194 - root_mean_squared_error: 4.8187\n",
      "Epoch 78/200\n",
      "7/7 [==============================] - 0s 1ms/step - loss: 22.6564 - root_mean_squared_error: 4.7599\n",
      "Epoch 79/200\n",
      "7/7 [==============================] - 0s 1ms/step - loss: 22.3789 - root_mean_squared_error: 4.7306\n",
      "Epoch 80/200\n",
      "7/7 [==============================] - 0s 1ms/step - loss: 22.5452 - root_mean_squared_error: 4.7482\n",
      "Epoch 81/200\n",
      "7/7 [==============================] - 0s 1ms/step - loss: 23.1470 - root_mean_squared_error: 4.8111\n",
      "Epoch 82/200\n",
      "7/7 [==============================] - 0s 1ms/step - loss: 23.8780 - root_mean_squared_error: 4.8865\n",
      "Epoch 83/200\n",
      "7/7 [==============================] - 0s 968us/step - loss: 22.2015 - root_mean_squared_error: 4.7118\n",
      "Epoch 84/200\n",
      "7/7 [==============================] - 0s 2ms/step - loss: 22.8878 - root_mean_squared_error: 4.7841\n",
      "Epoch 85/200\n",
      "7/7 [==============================] - 0s 1ms/step - loss: 22.4663 - root_mean_squared_error: 4.7399\n",
      "Epoch 86/200\n",
      "7/7 [==============================] - 0s 1ms/step - loss: 22.0483 - root_mean_squared_error: 4.6956\n",
      "Epoch 87/200\n",
      "7/7 [==============================] - 0s 1ms/step - loss: 22.6745 - root_mean_squared_error: 4.7618\n",
      "Epoch 88/200\n",
      "7/7 [==============================] - 0s 1ms/step - loss: 22.4895 - root_mean_squared_error: 4.7423\n",
      "Epoch 89/200\n",
      "7/7 [==============================] - 0s 946us/step - loss: 22.6529 - root_mean_squared_error: 4.7595\n",
      "Epoch 90/200\n",
      "7/7 [==============================] - 0s 1ms/step - loss: 22.1419 - root_mean_squared_error: 4.7055\n",
      "Epoch 91/200\n",
      "7/7 [==============================] - 0s 1ms/step - loss: 22.1515 - root_mean_squared_error: 4.7065\n",
      "Epoch 92/200\n",
      "7/7 [==============================] - 0s 998us/step - loss: 22.3394 - root_mean_squared_error: 4.7265\n",
      "Epoch 93/200\n",
      "7/7 [==============================] - 0s 1ms/step - loss: 22.1345 - root_mean_squared_error: 4.7047\n",
      "Epoch 94/200\n",
      "7/7 [==============================] - 0s 1ms/step - loss: 22.2960 - root_mean_squared_error: 4.7219\n",
      "Epoch 95/200\n",
      "7/7 [==============================] - 0s 1ms/step - loss: 22.1097 - root_mean_squared_error: 4.7021\n",
      "Epoch 96/200\n",
      "7/7 [==============================] - 0s 1ms/step - loss: 23.1980 - root_mean_squared_error: 4.8164\n",
      "Epoch 97/200\n",
      "7/7 [==============================] - 0s 1ms/step - loss: 21.5758 - root_mean_squared_error: 4.6450\n",
      "Epoch 98/200\n",
      "7/7 [==============================] - 0s 1ms/step - loss: 22.4029 - root_mean_squared_error: 4.7332\n",
      "Epoch 99/200\n",
      "7/7 [==============================] - 0s 1ms/step - loss: 22.7538 - root_mean_squared_error: 4.7701\n",
      "Epoch 100/200\n",
      "7/7 [==============================] - 0s 1ms/step - loss: 23.2711 - root_mean_squared_error: 4.8240\n",
      "Epoch 101/200\n",
      "7/7 [==============================] - 0s 1ms/step - loss: 22.8781 - root_mean_squared_error: 4.7831\n",
      "Epoch 102/200\n",
      "7/7 [==============================] - 0s 1ms/step - loss: 22.7137 - root_mean_squared_error: 4.7659\n",
      "Epoch 103/200\n",
      "7/7 [==============================] - 0s 2ms/step - loss: 21.7119 - root_mean_squared_error: 4.6596\n",
      "Epoch 104/200\n",
      "7/7 [==============================] - 0s 976us/step - loss: 22.3003 - root_mean_squared_error: 4.7223\n",
      "Epoch 105/200\n",
      "7/7 [==============================] - 0s 1ms/step - loss: 22.2875 - root_mean_squared_error: 4.7210\n",
      "Epoch 106/200\n",
      "7/7 [==============================] - 0s 1ms/step - loss: 21.8441 - root_mean_squared_error: 4.6738\n",
      "Epoch 107/200\n",
      "7/7 [==============================] - 0s 1ms/step - loss: 21.9994 - root_mean_squared_error: 4.6904\n",
      "Epoch 108/200\n",
      "7/7 [==============================] - 0s 1ms/step - loss: 21.8494 - root_mean_squared_error: 4.6743\n",
      "Epoch 109/200\n",
      "7/7 [==============================] - 0s 1ms/step - loss: 22.3167 - root_mean_squared_error: 4.7241\n",
      "Epoch 110/200\n",
      "7/7 [==============================] - 0s 1ms/step - loss: 21.9179 - root_mean_squared_error: 4.6817\n",
      "Epoch 111/200\n",
      "7/7 [==============================] - 0s 1ms/step - loss: 22.6310 - root_mean_squared_error: 4.7572\n",
      "Epoch 112/200\n",
      "7/7 [==============================] - 0s 1ms/step - loss: 21.6136 - root_mean_squared_error: 4.6490\n",
      "Epoch 113/200\n",
      "7/7 [==============================] - 0s 1ms/step - loss: 22.0506 - root_mean_squared_error: 4.6958\n",
      "Epoch 114/200\n",
      "7/7 [==============================] - 0s 1ms/step - loss: 21.7230 - root_mean_squared_error: 4.6608\n",
      "Epoch 115/200\n",
      "7/7 [==============================] - 0s 1ms/step - loss: 22.0416 - root_mean_squared_error: 4.6948\n",
      "Epoch 116/200\n",
      "7/7 [==============================] - 0s 1ms/step - loss: 21.6823 - root_mean_squared_error: 4.6564\n",
      "Epoch 117/200\n",
      "7/7 [==============================] - 0s 1ms/step - loss: 21.7949 - root_mean_squared_error: 4.6685\n",
      "Epoch 118/200\n",
      "7/7 [==============================] - 0s 1ms/step - loss: 21.6776 - root_mean_squared_error: 4.6559\n",
      "Epoch 119/200\n",
      "7/7 [==============================] - 0s 1ms/step - loss: 21.7819 - root_mean_squared_error: 4.6671\n",
      "Epoch 120/200\n",
      "7/7 [==============================] - 0s 1ms/step - loss: 21.8999 - root_mean_squared_error: 4.6797\n",
      "Epoch 121/200\n",
      "7/7 [==============================] - 0s 1ms/step - loss: 21.2131 - root_mean_squared_error: 4.6058\n",
      "Epoch 122/200\n",
      "7/7 [==============================] - 0s 1ms/step - loss: 22.4017 - root_mean_squared_error: 4.7330\n",
      "Epoch 123/200\n",
      "7/7 [==============================] - 0s 1ms/step - loss: 21.6137 - root_mean_squared_error: 4.6491\n",
      "Epoch 124/200\n",
      "7/7 [==============================] - 0s 995us/step - loss: 21.5682 - root_mean_squared_error: 4.6442\n",
      "Epoch 125/200\n",
      "7/7 [==============================] - 0s 968us/step - loss: 21.8081 - root_mean_squared_error: 4.6699\n",
      "Epoch 126/200\n",
      "7/7 [==============================] - 0s 1ms/step - loss: 21.4132 - root_mean_squared_error: 4.6274\n",
      "Epoch 127/200\n",
      "7/7 [==============================] - 0s 1ms/step - loss: 21.2548 - root_mean_squared_error: 4.6103\n",
      "Epoch 128/200\n",
      "7/7 [==============================] - 0s 1ms/step - loss: 21.3032 - root_mean_squared_error: 4.6155\n",
      "Epoch 129/200\n",
      "7/7 [==============================] - 0s 987us/step - loss: 21.6538 - root_mean_squared_error: 4.6534\n",
      "Epoch 130/200\n",
      "7/7 [==============================] - 0s 1ms/step - loss: 21.7782 - root_mean_squared_error: 4.6667\n",
      "Epoch 131/200\n",
      "7/7 [==============================] - 0s 1ms/step - loss: 21.2270 - root_mean_squared_error: 4.6073\n",
      "Epoch 132/200\n",
      "7/7 [==============================] - 0s 1ms/step - loss: 21.7353 - root_mean_squared_error: 4.6621\n",
      "Epoch 133/200\n",
      "7/7 [==============================] - 0s 2ms/step - loss: 20.9868 - root_mean_squared_error: 4.5811\n",
      "Epoch 134/200\n",
      "7/7 [==============================] - 0s 1ms/step - loss: 21.4780 - root_mean_squared_error: 4.6344\n",
      "Epoch 135/200\n",
      "7/7 [==============================] - 0s 2ms/step - loss: 21.1319 - root_mean_squared_error: 4.5969\n",
      "Epoch 136/200\n",
      "7/7 [==============================] - 0s 1ms/step - loss: 21.2916 - root_mean_squared_error: 4.6143\n",
      "Epoch 137/200\n",
      "7/7 [==============================] - 0s 1ms/step - loss: 20.9668 - root_mean_squared_error: 4.5789\n",
      "Epoch 138/200\n",
      "7/7 [==============================] - 0s 1ms/step - loss: 21.5879 - root_mean_squared_error: 4.6463\n",
      "Epoch 139/200\n",
      "7/7 [==============================] - 0s 1ms/step - loss: 21.7963 - root_mean_squared_error: 4.6687\n",
      "Epoch 140/200\n",
      "7/7 [==============================] - 0s 1ms/step - loss: 21.4699 - root_mean_squared_error: 4.6336\n",
      "Epoch 141/200\n",
      "7/7 [==============================] - 0s 1ms/step - loss: 20.9858 - root_mean_squared_error: 4.5810\n",
      "Epoch 142/200\n",
      "7/7 [==============================] - 0s 1ms/step - loss: 22.1604 - root_mean_squared_error: 4.7075\n",
      "Epoch 143/200\n"
     ]
    },
    {
     "name": "stdout",
     "output_type": "stream",
     "text": [
      "7/7 [==============================] - 0s 1ms/step - loss: 20.9887 - root_mean_squared_error: 4.5813\n",
      "Epoch 144/200\n",
      "7/7 [==============================] - 0s 2ms/step - loss: 21.2004 - root_mean_squared_error: 4.6044\n",
      "Epoch 145/200\n",
      "7/7 [==============================] - 0s 2ms/step - loss: 21.3371 - root_mean_squared_error: 4.6192\n",
      "Epoch 146/200\n",
      "7/7 [==============================] - 0s 1ms/step - loss: 21.6465 - root_mean_squared_error: 4.6526\n",
      "Epoch 147/200\n",
      "7/7 [==============================] - 0s 1ms/step - loss: 20.5253 - root_mean_squared_error: 4.5305\n",
      "Epoch 148/200\n",
      "7/7 [==============================] - 0s 1ms/step - loss: 21.5308 - root_mean_squared_error: 4.6401\n",
      "Epoch 149/200\n",
      "7/7 [==============================] - 0s 2ms/step - loss: 22.4035 - root_mean_squared_error: 4.7332\n",
      "Epoch 150/200\n",
      "7/7 [==============================] - 0s 1ms/step - loss: 20.7876 - root_mean_squared_error: 4.5593\n",
      "Epoch 151/200\n",
      "7/7 [==============================] - 0s 1ms/step - loss: 22.0040 - root_mean_squared_error: 4.6908\n",
      "Epoch 152/200\n",
      "7/7 [==============================] - 0s 2ms/step - loss: 22.5541 - root_mean_squared_error: 4.7491\n",
      "Epoch 153/200\n",
      "7/7 [==============================] - 0s 1ms/step - loss: 20.9840 - root_mean_squared_error: 4.5808\n",
      "Epoch 154/200\n",
      "7/7 [==============================] - 0s 1ms/step - loss: 22.2035 - root_mean_squared_error: 4.7121\n",
      "Epoch 155/200\n",
      "7/7 [==============================] - 0s 1ms/step - loss: 22.5199 - root_mean_squared_error: 4.7455\n",
      "Epoch 156/200\n",
      "7/7 [==============================] - 0s 1ms/step - loss: 21.9594 - root_mean_squared_error: 4.6861\n",
      "Epoch 157/200\n",
      "7/7 [==============================] - 0s 1ms/step - loss: 20.3217 - root_mean_squared_error: 4.5080\n",
      "Epoch 158/200\n",
      "7/7 [==============================] - 0s 1ms/step - loss: 21.3289 - root_mean_squared_error: 4.6183\n",
      "Epoch 159/200\n",
      "7/7 [==============================] - 0s 1ms/step - loss: 21.3924 - root_mean_squared_error: 4.6252\n",
      "Epoch 160/200\n",
      "7/7 [==============================] - 0s 1ms/step - loss: 24.5196 - root_mean_squared_error: 4.9517\n",
      "Epoch 161/200\n",
      "7/7 [==============================] - 0s 1ms/step - loss: 21.8918 - root_mean_squared_error: 4.6789\n",
      "Epoch 162/200\n",
      "7/7 [==============================] - 0s 970us/step - loss: 21.2747 - root_mean_squared_error: 4.6124\n",
      "Epoch 163/200\n",
      "7/7 [==============================] - 0s 965us/step - loss: 20.8292 - root_mean_squared_error: 4.5639\n",
      "Epoch 164/200\n",
      "7/7 [==============================] - 0s 974us/step - loss: 20.8345 - root_mean_squared_error: 4.5645\n",
      "Epoch 165/200\n",
      "7/7 [==============================] - 0s 1ms/step - loss: 20.6884 - root_mean_squared_error: 4.5484\n",
      "Epoch 166/200\n",
      "7/7 [==============================] - 0s 1ms/step - loss: 20.5258 - root_mean_squared_error: 4.5305\n",
      "Epoch 167/200\n",
      "7/7 [==============================] - 0s 1ms/step - loss: 20.6420 - root_mean_squared_error: 4.5433\n",
      "Epoch 168/200\n",
      "7/7 [==============================] - 0s 1ms/step - loss: 20.0761 - root_mean_squared_error: 4.4806\n",
      "Epoch 169/200\n",
      "7/7 [==============================] - 0s 1ms/step - loss: 21.2672 - root_mean_squared_error: 4.6116\n",
      "Epoch 170/200\n",
      "7/7 [==============================] - 0s 1ms/step - loss: 21.2930 - root_mean_squared_error: 4.6144\n",
      "Epoch 171/200\n",
      "7/7 [==============================] - 0s 1ms/step - loss: 20.5111 - root_mean_squared_error: 4.5289\n",
      "Epoch 172/200\n",
      "7/7 [==============================] - 0s 1ms/step - loss: 20.4919 - root_mean_squared_error: 4.5268\n",
      "Epoch 173/200\n",
      "7/7 [==============================] - 0s 1ms/step - loss: 20.1176 - root_mean_squared_error: 4.4853\n",
      "Epoch 174/200\n",
      "7/7 [==============================] - 0s 2ms/step - loss: 20.0177 - root_mean_squared_error: 4.4741\n",
      "Epoch 175/200\n",
      "7/7 [==============================] - 0s 1ms/step - loss: 21.3724 - root_mean_squared_error: 4.6230\n",
      "Epoch 176/200\n",
      "7/7 [==============================] - 0s 1ms/step - loss: 20.0595 - root_mean_squared_error: 4.4788\n",
      "Epoch 177/200\n",
      "7/7 [==============================] - 0s 1ms/step - loss: 21.5132 - root_mean_squared_error: 4.6382\n",
      "Epoch 178/200\n",
      "7/7 [==============================] - 0s 1ms/step - loss: 21.0912 - root_mean_squared_error: 4.5925\n",
      "Epoch 179/200\n",
      "7/7 [==============================] - 0s 1ms/step - loss: 23.0740 - root_mean_squared_error: 4.8035\n",
      "Epoch 180/200\n",
      "7/7 [==============================] - 0s 1ms/step - loss: 20.1649 - root_mean_squared_error: 4.4905\n",
      "Epoch 181/200\n",
      "7/7 [==============================] - 0s 1ms/step - loss: 20.4842 - root_mean_squared_error: 4.5260\n",
      "Epoch 182/200\n",
      "7/7 [==============================] - 0s 2ms/step - loss: 20.0507 - root_mean_squared_error: 4.4778\n",
      "Epoch 183/200\n",
      "7/7 [==============================] - 0s 1ms/step - loss: 19.8272 - root_mean_squared_error: 4.4528\n",
      "Epoch 184/200\n",
      "7/7 [==============================] - 0s 1ms/step - loss: 20.2396 - root_mean_squared_error: 4.4988\n",
      "Epoch 185/200\n",
      "7/7 [==============================] - 0s 1ms/step - loss: 19.9594 - root_mean_squared_error: 4.4676\n",
      "Epoch 186/200\n",
      "7/7 [==============================] - 0s 1ms/step - loss: 19.9950 - root_mean_squared_error: 4.4716\n",
      "Epoch 187/200\n",
      "7/7 [==============================] - 0s 1ms/step - loss: 20.4622 - root_mean_squared_error: 4.5235\n",
      "Epoch 188/200\n",
      "7/7 [==============================] - 0s 1ms/step - loss: 20.0404 - root_mean_squared_error: 4.4766\n",
      "Epoch 189/200\n",
      "7/7 [==============================] - 0s 1ms/step - loss: 21.5550 - root_mean_squared_error: 4.6427\n",
      "Epoch 190/200\n",
      "7/7 [==============================] - 0s 1ms/step - loss: 19.6147 - root_mean_squared_error: 4.4289\n",
      "Epoch 191/200\n",
      "7/7 [==============================] - 0s 2ms/step - loss: 19.8974 - root_mean_squared_error: 4.4607\n",
      "Epoch 192/200\n",
      "7/7 [==============================] - 0s 1ms/step - loss: 19.7868 - root_mean_squared_error: 4.4482\n",
      "Epoch 193/200\n",
      "7/7 [==============================] - 0s 1ms/step - loss: 19.6727 - root_mean_squared_error: 4.4354\n",
      "Epoch 194/200\n",
      "7/7 [==============================] - 0s 1ms/step - loss: 19.8213 - root_mean_squared_error: 4.4521\n",
      "Epoch 195/200\n",
      "7/7 [==============================] - 0s 1ms/step - loss: 19.5422 - root_mean_squared_error: 4.4207\n",
      "Epoch 196/200\n",
      "7/7 [==============================] - 0s 1ms/step - loss: 19.9122 - root_mean_squared_error: 4.4623\n",
      "Epoch 197/200\n",
      "7/7 [==============================] - 0s 1ms/step - loss: 19.7918 - root_mean_squared_error: 4.4488\n",
      "Epoch 198/200\n",
      "7/7 [==============================] - 0s 1ms/step - loss: 19.2050 - root_mean_squared_error: 4.3824\n",
      "Epoch 199/200\n",
      "7/7 [==============================] - 0s 1ms/step - loss: 20.7850 - root_mean_squared_error: 4.5591\n",
      "Epoch 200/200\n",
      "7/7 [==============================] - 0s 2ms/step - loss: 20.9344 - root_mean_squared_error: 4.5754\n"
     ]
    },
    {
     "data": {
      "text/plain": [
       "<tensorflow.python.keras.callbacks.History at 0x7fc7cd5a0550>"
      ]
     },
     "execution_count": 35,
     "metadata": {},
     "output_type": "execute_result"
    }
   ],
   "source": [
    "x_1 = x_1.reshape(x_1.shape[0], x_1.shape[1], 1)\n",
    "\n",
    "xtrain, xtest, ytrain, ytest = train_test_split(x_1, y_1, test_size=0.33)\n",
    "\n",
    "model2 = Sequential()\n",
    "model2.add(Conv1D(100, 2, activation=\"relu\", input_shape=(6,1)))\n",
    "# model.add(Conv1D(100, 2, activation=\"relu\", input_shape=(6,1)))\n",
    "# model.add(MaxPooling1D(pool_size = 2))\n",
    "# model.add(Conv1D(64, 2, activation=\"relu\", input_shape=(6,1)))\n",
    "# # model.add(Conv1D(32, 2, activation=\"relu\", input_shape=(6,1)))\n",
    "model2.add(MaxPooling1D(pool_size = 1))\n",
    "model2.add(Flatten())\n",
    "# model.add(Dense(50, activation=\"relu\"))\n",
    "# model.add(Dense(5, activation=\"softmax\"))\n",
    "# model.compile(loss=\"mse\", optimizer=\"adam\")\n",
    "\n",
    "model2.add(Dense(100, activation='relu'))\n",
    "# model.add(Dense(100, activation='relu'))\n",
    "model2.add(Dense(1, activation='linear'))\n",
    "\n",
    "# compile the model\n",
    "model2.compile(optimizer='adam', loss='mse', metrics=[tf.keras.metrics.RootMeanSquaredError()])\n",
    "\n",
    "model2.fit(xtrain, ytrain, batch_size=12,epochs=200)"
   ]
  },
  {
   "cell_type": "code",
   "execution_count": 36,
   "metadata": {},
   "outputs": [],
   "source": [
    "preds2 = model2.predict(xtest)"
   ]
  },
  {
   "cell_type": "code",
   "execution_count": 37,
   "metadata": {},
   "outputs": [
    {
     "data": {
      "image/png": "[encoded data removed]",
      "text/plain": [
       "<Figure size 432x288 with 1 Axes>"
      ]
     },
     "metadata": {
      "needs_background": "light"
     },
     "output_type": "display_data"
    }
   ],
   "source": [
    "plt.scatter(preds2, ytest)\n",
    "plt.show()"
   ]
  },
  {
   "cell_type": "code",
   "execution_count": 38,
   "metadata": {},
   "outputs": [
    {
     "data": {
      "text/plain": [
       "0.23186639251078867"
      ]
     },
     "execution_count": 38,
     "metadata": {},
     "output_type": "execute_result"
    }
   ],
   "source": [
    "cnn2_corr, _ =  pearsonr(preds2.T[0], ytest)\n",
    "cnn2_corr"
   ]
  },
  {
   "cell_type": "code",
   "execution_count": 40,
   "metadata": {},
   "outputs": [
    {
     "data": {
      "text/plain": [
       "5.840649476289452"
      ]
     },
     "execution_count": 40,
     "metadata": {},
     "output_type": "execute_result"
    }
   ],
   "source": [
    "np.sqrt(np.sum((preds2.T[0] - ytest)**2) / len(ytest))"
   ]
  },
  {
   "cell_type": "code",
   "execution_count": null,
   "metadata": {},
   "outputs": [],
   "source": []
  }
 ],
 "metadata": {
  "colab": {
   "collapsed_sections": [],
   "name": "WineAI",
   "provenance": []
  },
  "kernelspec": {
   "display_name": "Python 3",
   "language": "python",
   "name": "python3"
  },
  "language_info": {
   "codemirror_mode": {
    "name": "ipython",
    "version": 3
   },
   "file_extension": ".py",
   "mimetype": "text/x-python",
   "name": "python",
   "nbconvert_exporter": "python",
   "pygments_lexer": "ipython3",
   "version": "3.7.6"
  }
 },
 "nbformat": 4,
 "nbformat_minor": 1
}
