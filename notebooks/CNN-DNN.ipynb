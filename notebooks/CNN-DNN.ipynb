{
 "cells": [
  {
   "cell_type": "markdown",
   "metadata": {},
   "source": [
    "# CNN-DNN\n",
    "\n",
    "Information..."
   ]
  },
  {
   "cell_type": "markdown",
   "metadata": {},
   "source": [
    "## Load packages"
   ]
  },
  {
   "cell_type": "code",
   "execution_count": 139,
   "metadata": {},
   "outputs": [],
   "source": [
    "import os, sys, random\n",
    "import numpy as np\n",
    "import pandas as pd\n",
    "import matplotlib.pyplot as plt"
   ]
  },
  {
   "cell_type": "code",
   "execution_count": 2,
   "metadata": {},
   "outputs": [],
   "source": [
    "sys.path.append('../scripts')\n",
    "from CNN import CNNBlock"
   ]
  },
  {
   "cell_type": "code",
   "execution_count": 234,
   "metadata": {},
   "outputs": [],
   "source": [
    "from tensorflow.keras import Model\n",
    "from tensorflow.keras.optimizers import Adam\n",
    "from tensorflow.keras.metrics import RootMeanSquaredError as rmse\n",
    "from tensorflow.keras.callbacks import EarlyStopping, ModelCheckpoint\n",
    "from tensorflow.keras.optimizers.schedules import ExponentialDecay\n",
    "from tensorflow.keras.layers import Input, Embedding, Concatenate, Dense, Flatten, Dropout"
   ]
  },
  {
   "cell_type": "markdown",
   "metadata": {},
   "source": [
    "## Create model"
   ]
  },
  {
   "cell_type": "code",
   "execution_count": 116,
   "metadata": {
    "scrolled": true
   },
   "outputs": [
    {
     "name": "stdout",
     "output_type": "stream",
     "text": [
      "columbia valley-1999.csv; days missing weather: 12\n",
      "willamette valley-2018.csv; days missing weather: 3\n",
      "carneros-2000.csv; days missing weather: 10\n",
      "north coast-2000.csv; days missing weather: 17\n",
      "columbia valley-1997.csv; days missing weather: 174\n",
      "RRV-2000.csv; days missing weather: 17\n",
      "sonoma-2000.csv; days missing weather: 17\n",
      "napa-2000.csv; days missing weather: 10\n"
     ]
    }
   ],
   "source": [
    "combos = os.listdir('../data/complete_weather')\n",
    "complete_combos = []\n",
    "count=0\n",
    "for c in combos:\n",
    "    pth = os.path.join('..', 'data', 'complete_weather', c)\n",
    "    df = pd.read_csv(pth)\n",
    "    n_missing = df.shape[0] - df.dropna().shape[0]\n",
    "    if n_missing == 0:\n",
    "        complete_combos.append(c)\n",
    "    elif df.shape[0] == n_missing:\n",
    "        count += 1\n",
    "    else:\n",
    "        print(c + '; days missing weather: ' + str(n_missing))"
   ]
  },
  {
   "cell_type": "code",
   "execution_count": 114,
   "metadata": {},
   "outputs": [
    {
     "data": {
      "text/plain": [
       "133"
      ]
     },
     "execution_count": 114,
     "metadata": {},
     "output_type": "execute_result"
    }
   ],
   "source": [
    "count"
   ]
  },
  {
   "cell_type": "code",
   "execution_count": 115,
   "metadata": {},
   "outputs": [
    {
     "data": {
      "text/plain": [
       "290"
      ]
     },
     "execution_count": 115,
     "metadata": {},
     "output_type": "execute_result"
    }
   ],
   "source": [
    "len(combos)"
   ]
  },
  {
   "cell_type": "code",
   "execution_count": 63,
   "metadata": {},
   "outputs": [
    {
     "data": {
      "text/plain": [
       "149"
      ]
     },
     "execution_count": 63,
     "metadata": {},
     "output_type": "execute_result"
    }
   ],
   "source": [
    "len(complete_combos)"
   ]
  },
  {
   "cell_type": "code",
   "execution_count": 551,
   "metadata": {},
   "outputs": [],
   "source": [
    "lr = 1e-2\n",
    "decay = ExponentialDecay(lr, decay_steps=50, decay_rate=0.96)\n",
    "adam_decay = Adam(decay)\n",
    "\n",
    "earlystopping = EarlyStopping(min_delta=0.0, patience=20)"
   ]
  },
  {
   "cell_type": "code",
   "execution_count": 552,
   "metadata": {},
   "outputs": [],
   "source": [
    "grape_input = Input(shape=(1,))\n",
    "grape = Dense(1)(grape_input)\n",
    "weather_input = Input(shape=(245,7))\n",
    "\n",
    "cnn = CNNBlock(wfilt=16, mfilt=16)\n",
    "x = cnn(weather_input)\n",
    "x = Flatten()(x)\n",
    "x = Dense(64, activation='relu')(x)\n",
    "\n",
    "x = Concatenate()([x, grape])\n",
    "x = Dense(8, activation='relu')(x)\n",
    "x = Dense(1, activation='relu')(x)"
   ]
  },
  {
   "cell_type": "code",
   "execution_count": 553,
   "metadata": {},
   "outputs": [],
   "source": [
    "model = Model(inputs=[grape_input, weather_input], outputs=x)\n",
    "model.compile(loss='mean_squared_error', optimizer=adam_decay,\n",
    "             metrics=[rmse()])"
   ]
  },
  {
   "cell_type": "markdown",
   "metadata": {},
   "source": [
    "## Data"
   ]
  },
  {
   "cell_type": "code",
   "execution_count": 554,
   "metadata": {},
   "outputs": [
    {
     "data": {
      "text/html": [
       "<div>\n",
       "<style scoped>\n",
       "    .dataframe tbody tr th:only-of-type {\n",
       "        vertical-align: middle;\n",
       "    }\n",
       "\n",
       "    .dataframe tbody tr th {\n",
       "        vertical-align: top;\n",
       "    }\n",
       "\n",
       "    .dataframe thead th {\n",
       "        text-align: right;\n",
       "    }\n",
       "</style>\n",
       "<table border=\"1\" class=\"dataframe\">\n",
       "  <thead>\n",
       "    <tr style=\"text-align: right;\">\n",
       "      <th></th>\n",
       "      <th>skin</th>\n",
       "      <th>file</th>\n",
       "      <th>quality</th>\n",
       "    </tr>\n",
       "  </thead>\n",
       "  <tbody>\n",
       "    <tr>\n",
       "      <th>0</th>\n",
       "      <td>1</td>\n",
       "      <td>RRV-2008.csv</td>\n",
       "      <td>91.0</td>\n",
       "    </tr>\n",
       "    <tr>\n",
       "      <th>1</th>\n",
       "      <td>1</td>\n",
       "      <td>RRV-2020.csv</td>\n",
       "      <td>92.5</td>\n",
       "    </tr>\n",
       "    <tr>\n",
       "      <th>5</th>\n",
       "      <td>1</td>\n",
       "      <td>RRV-2009.csv</td>\n",
       "      <td>88.5</td>\n",
       "    </tr>\n",
       "    <tr>\n",
       "      <th>6</th>\n",
       "      <td>0</td>\n",
       "      <td>sonoma-2009.csv</td>\n",
       "      <td>88.0</td>\n",
       "    </tr>\n",
       "    <tr>\n",
       "      <th>7</th>\n",
       "      <td>1</td>\n",
       "      <td>sonoma-2009.csv</td>\n",
       "      <td>91.0</td>\n",
       "    </tr>\n",
       "  </tbody>\n",
       "</table>\n",
       "</div>"
      ],
      "text/plain": [
       "   skin             file  quality\n",
       "0     1     RRV-2008.csv     91.0\n",
       "1     1     RRV-2020.csv     92.5\n",
       "5     1     RRV-2009.csv     88.5\n",
       "6     0  sonoma-2009.csv     88.0\n",
       "7     1  sonoma-2009.csv     91.0"
      ]
     },
     "execution_count": 554,
     "metadata": {},
     "output_type": "execute_result"
    }
   ],
   "source": [
    "df = pd.read_csv('../data/wine_data_final.csv')\n",
    "df = df[df.file.isin(complete_combos)]\n",
    "df.head()"
   ]
  },
  {
   "cell_type": "code",
   "execution_count": 555,
   "metadata": {},
   "outputs": [
    {
     "data": {
      "text/plain": [
       "(188, 3)"
      ]
     },
     "execution_count": 555,
     "metadata": {},
     "output_type": "execute_result"
    }
   ],
   "source": [
    "df.shape"
   ]
  },
  {
   "cell_type": "code",
   "execution_count": 556,
   "metadata": {},
   "outputs": [],
   "source": [
    "np.random.seed(34)\n",
    "ids = set(df.index.tolist())\n",
    "test = set(df.sample(n=20).index.tolist())\n",
    "train = ids - test\n",
    "val = set(df.loc[ids, :].sample(n=15).index.tolist())\n",
    "train = train - val"
   ]
  },
  {
   "cell_type": "code",
   "execution_count": 557,
   "metadata": {},
   "outputs": [],
   "source": [
    "df_train = df.loc[train, :]\n",
    "df_val = df.loc[val, :]\n",
    "df_test = df.loc[test, :]\n",
    "\n",
    "s_train = df_train.skin.values\n",
    "gt_train = df_train.quality.values\n",
    "\n",
    "s_val = df_val.skin.values\n",
    "gt_val = df_val.quality.values\n",
    "\n",
    "s_test = df_test.skin.values\n",
    "gt_test = df_test.quality.values"
   ]
  },
  {
   "cell_type": "code",
   "execution_count": 558,
   "metadata": {},
   "outputs": [],
   "source": [
    "def fetch_weather(x):\n",
    "    pth = os.path.join('..', 'data', 'complete_weather', x)\n",
    "    weather = pd.read_csv(pth)\n",
    "    return weather.values\n",
    "\n",
    "def compile_weather(data, xs):\n",
    "    for i, x in enumerate(xs):\n",
    "        f = data.loc[x, 'file']\n",
    "        if i == 0:\n",
    "            n1 = fetch_weather(f)\n",
    "        else:\n",
    "            n2 = fetch_weather(f)\n",
    "            n1 = np.concatenate((n1, n2), axis=0)\n",
    "    return n1.reshape(i+1,245,7)"
   ]
  },
  {
   "cell_type": "code",
   "execution_count": 559,
   "metadata": {},
   "outputs": [],
   "source": [
    "w_train = compile_weather(df, train)\n",
    "w_val = compile_weather(df, val)\n",
    "w_test = compile_weather(df, test)"
   ]
  },
  {
   "cell_type": "markdown",
   "metadata": {},
   "source": [
    "## Train Model"
   ]
  },
  {
   "cell_type": "code",
   "execution_count": 567,
   "metadata": {},
   "outputs": [
    {
     "name": "stdout",
     "output_type": "stream",
     "text": [
      "Epoch 1/100\n",
      "5/5 [==============================] - 0s 21ms/step - loss: 18.9429 - root_mean_squared_error: 4.3523 - val_loss: 40.0756 - val_root_mean_squared_error: 6.3305\n",
      "Epoch 2/100\n",
      "5/5 [==============================] - 0s 20ms/step - loss: 19.7356 - root_mean_squared_error: 4.4425 - val_loss: 29.8485 - val_root_mean_squared_error: 5.4634\n",
      "Epoch 3/100\n",
      "5/5 [==============================] - 0s 20ms/step - loss: 22.7693 - root_mean_squared_error: 4.7717 - val_loss: 36.6965 - val_root_mean_squared_error: 6.0578\n",
      "Epoch 4/100\n",
      "5/5 [==============================] - 0s 19ms/step - loss: 22.5747 - root_mean_squared_error: 4.7513 - val_loss: 44.8267 - val_root_mean_squared_error: 6.6953\n",
      "Epoch 5/100\n",
      "5/5 [==============================] - 0s 19ms/step - loss: 20.2236 - root_mean_squared_error: 4.4971 - val_loss: 47.0940 - val_root_mean_squared_error: 6.8625\n",
      "Epoch 6/100\n",
      "5/5 [==============================] - 0s 19ms/step - loss: 24.6363 - root_mean_squared_error: 4.9635 - val_loss: 51.8117 - val_root_mean_squared_error: 7.1980\n",
      "Epoch 7/100\n",
      "5/5 [==============================] - 0s 20ms/step - loss: 21.4842 - root_mean_squared_error: 4.6351 - val_loss: 38.4008 - val_root_mean_squared_error: 6.1968\n",
      "Epoch 8/100\n",
      "5/5 [==============================] - 0s 21ms/step - loss: 24.1355 - root_mean_squared_error: 4.9128 - val_loss: 38.8453 - val_root_mean_squared_error: 6.2326\n",
      "Epoch 9/100\n",
      "5/5 [==============================] - 0s 21ms/step - loss: 22.0521 - root_mean_squared_error: 4.6960 - val_loss: 55.3587 - val_root_mean_squared_error: 7.4403\n",
      "Epoch 10/100\n",
      "5/5 [==============================] - 0s 19ms/step - loss: 24.2247 - root_mean_squared_error: 4.9219 - val_loss: 39.5564 - val_root_mean_squared_error: 6.2894\n",
      "Epoch 11/100\n",
      "5/5 [==============================] - 0s 20ms/step - loss: 16.7193 - root_mean_squared_error: 4.0889 - val_loss: 28.7601 - val_root_mean_squared_error: 5.3628\n",
      "Epoch 12/100\n",
      "5/5 [==============================] - 0s 20ms/step - loss: 16.9826 - root_mean_squared_error: 4.1210 - val_loss: 29.8110 - val_root_mean_squared_error: 5.4599\n",
      "Epoch 13/100\n",
      "5/5 [==============================] - 0s 20ms/step - loss: 17.6367 - root_mean_squared_error: 4.1996 - val_loss: 21.9794 - val_root_mean_squared_error: 4.6882\n",
      "Epoch 14/100\n",
      "5/5 [==============================] - 0s 20ms/step - loss: 16.9646 - root_mean_squared_error: 4.1188 - val_loss: 23.5692 - val_root_mean_squared_error: 4.8548\n",
      "Epoch 15/100\n",
      "5/5 [==============================] - 0s 20ms/step - loss: 16.8677 - root_mean_squared_error: 4.1070 - val_loss: 27.8114 - val_root_mean_squared_error: 5.2737\n",
      "Epoch 16/100\n",
      "5/5 [==============================] - 0s 20ms/step - loss: 17.8329 - root_mean_squared_error: 4.2229 - val_loss: 34.7066 - val_root_mean_squared_error: 5.8912\n",
      "Epoch 17/100\n",
      "5/5 [==============================] - 0s 21ms/step - loss: 16.8910 - root_mean_squared_error: 4.1099 - val_loss: 30.0554 - val_root_mean_squared_error: 5.4823\n",
      "Epoch 18/100\n",
      "5/5 [==============================] - 0s 20ms/step - loss: 19.4587 - root_mean_squared_error: 4.4112 - val_loss: 28.1210 - val_root_mean_squared_error: 5.3029\n",
      "Epoch 19/100\n",
      "5/5 [==============================] - 0s 19ms/step - loss: 17.3040 - root_mean_squared_error: 4.1598 - val_loss: 38.8753 - val_root_mean_squared_error: 6.2350\n",
      "Epoch 20/100\n",
      "5/5 [==============================] - 0s 20ms/step - loss: 16.3390 - root_mean_squared_error: 4.0421 - val_loss: 37.3777 - val_root_mean_squared_error: 6.1137\n",
      "Epoch 21/100\n",
      "5/5 [==============================] - 0s 19ms/step - loss: 18.8466 - root_mean_squared_error: 4.3413 - val_loss: 32.3285 - val_root_mean_squared_error: 5.6858\n",
      "Epoch 22/100\n",
      "5/5 [==============================] - 0s 22ms/step - loss: 18.7957 - root_mean_squared_error: 4.3354 - val_loss: 28.7245 - val_root_mean_squared_error: 5.3595\n",
      "Epoch 23/100\n",
      "5/5 [==============================] - 0s 21ms/step - loss: 19.5567 - root_mean_squared_error: 4.4223 - val_loss: 25.1616 - val_root_mean_squared_error: 5.0161\n",
      "Epoch 24/100\n",
      "5/5 [==============================] - 0s 20ms/step - loss: 18.5344 - root_mean_squared_error: 4.3052 - val_loss: 20.2092 - val_root_mean_squared_error: 4.4955\n",
      "Epoch 25/100\n",
      "5/5 [==============================] - 0s 22ms/step - loss: 21.9648 - root_mean_squared_error: 4.6867 - val_loss: 20.2154 - val_root_mean_squared_error: 4.4962\n",
      "Epoch 26/100\n",
      "5/5 [==============================] - 0s 32ms/step - loss: 16.0925 - root_mean_squared_error: 4.0115 - val_loss: 21.6505 - val_root_mean_squared_error: 4.6530\n",
      "Epoch 27/100\n",
      "5/5 [==============================] - 0s 25ms/step - loss: 14.8260 - root_mean_squared_error: 3.8505 - val_loss: 21.0845 - val_root_mean_squared_error: 4.5918\n",
      "Epoch 28/100\n",
      "5/5 [==============================] - 0s 23ms/step - loss: 16.1452 - root_mean_squared_error: 4.0181 - val_loss: 25.6186 - val_root_mean_squared_error: 5.0615\n",
      "Epoch 29/100\n",
      "5/5 [==============================] - 0s 15ms/step - loss: 14.4118 - root_mean_squared_error: 3.7963 - val_loss: 30.4325 - val_root_mean_squared_error: 5.5166\n",
      "Epoch 30/100\n",
      "5/5 [==============================] - 0s 21ms/step - loss: 14.3721 - root_mean_squared_error: 3.7911 - val_loss: 24.3940 - val_root_mean_squared_error: 4.9390\n",
      "Epoch 31/100\n",
      "5/5 [==============================] - 0s 21ms/step - loss: 13.8547 - root_mean_squared_error: 3.7222 - val_loss: 33.4016 - val_root_mean_squared_error: 5.7794\n",
      "Epoch 32/100\n",
      "5/5 [==============================] - 0s 21ms/step - loss: 14.1882 - root_mean_squared_error: 3.7667 - val_loss: 37.2126 - val_root_mean_squared_error: 6.1002\n",
      "Epoch 33/100\n",
      "5/5 [==============================] - 0s 21ms/step - loss: 14.8702 - root_mean_squared_error: 3.8562 - val_loss: 28.4023 - val_root_mean_squared_error: 5.3294\n",
      "Epoch 34/100\n",
      "5/5 [==============================] - 0s 21ms/step - loss: 14.5177 - root_mean_squared_error: 3.8102 - val_loss: 26.9010 - val_root_mean_squared_error: 5.1866\n",
      "Epoch 35/100\n",
      "5/5 [==============================] - 0s 23ms/step - loss: 14.9479 - root_mean_squared_error: 3.8663 - val_loss: 36.4279 - val_root_mean_squared_error: 6.0356\n",
      "Epoch 36/100\n",
      "5/5 [==============================] - 0s 22ms/step - loss: 15.7321 - root_mean_squared_error: 3.9664 - val_loss: 40.5556 - val_root_mean_squared_error: 6.3683\n",
      "Epoch 37/100\n",
      "5/5 [==============================] - 0s 21ms/step - loss: 15.3353 - root_mean_squared_error: 3.9160 - val_loss: 38.9214 - val_root_mean_squared_error: 6.2387\n",
      "Epoch 38/100\n",
      "5/5 [==============================] - 0s 29ms/step - loss: 14.6488 - root_mean_squared_error: 3.8274 - val_loss: 37.2603 - val_root_mean_squared_error: 6.1041\n",
      "Epoch 39/100\n",
      "5/5 [==============================] - 0s 21ms/step - loss: 14.2606 - root_mean_squared_error: 3.7763 - val_loss: 32.9325 - val_root_mean_squared_error: 5.7387\n",
      "Epoch 40/100\n",
      "5/5 [==============================] - 0s 21ms/step - loss: 13.8649 - root_mean_squared_error: 3.7236 - val_loss: 43.7030 - val_root_mean_squared_error: 6.6108\n",
      "Epoch 41/100\n",
      "5/5 [==============================] - 0s 20ms/step - loss: 15.2319 - root_mean_squared_error: 3.9028 - val_loss: 23.7642 - val_root_mean_squared_error: 4.8749\n",
      "Epoch 42/100\n",
      "5/5 [==============================] - 0s 19ms/step - loss: 14.7319 - root_mean_squared_error: 3.8382 - val_loss: 24.4480 - val_root_mean_squared_error: 4.9445\n",
      "Epoch 43/100\n",
      "5/5 [==============================] - 0s 22ms/step - loss: 16.3344 - root_mean_squared_error: 4.0416 - val_loss: 53.0581 - val_root_mean_squared_error: 7.2841\n",
      "Epoch 44/100\n",
      "5/5 [==============================] - 0s 21ms/step - loss: 17.8259 - root_mean_squared_error: 4.2221 - val_loss: 39.2603 - val_root_mean_squared_error: 6.2658\n"
     ]
    },
    {
     "data": {
      "text/plain": [
       "<tensorflow.python.keras.callbacks.History at 0x7fbb3dd89f50>"
      ]
     },
     "execution_count": 567,
     "metadata": {},
     "output_type": "execute_result"
    }
   ],
   "source": [
    "model.fit(x=[s_train, w_train], y=gt_train,\n",
    "          validation_data=([s_val, w_val], gt_val),\n",
    "          epochs=100, callbacks=[earlystopping])"
   ]
  },
  {
   "cell_type": "code",
   "execution_count": 568,
   "metadata": {},
   "outputs": [],
   "source": [
    "preds = model.predict([s_test, w_test]).T[0]"
   ]
  },
  {
   "cell_type": "code",
   "execution_count": 569,
   "metadata": {},
   "outputs": [
    {
     "data": {
      "text/html": [
       "<div>\n",
       "<style scoped>\n",
       "    .dataframe tbody tr th:only-of-type {\n",
       "        vertical-align: middle;\n",
       "    }\n",
       "\n",
       "    .dataframe tbody tr th {\n",
       "        vertical-align: top;\n",
       "    }\n",
       "\n",
       "    .dataframe thead th {\n",
       "        text-align: right;\n",
       "    }\n",
       "</style>\n",
       "<table border=\"1\" class=\"dataframe\">\n",
       "  <thead>\n",
       "    <tr style=\"text-align: right;\">\n",
       "      <th></th>\n",
       "      <th>0</th>\n",
       "      <th>1</th>\n",
       "      <th>2</th>\n",
       "      <th>3</th>\n",
       "      <th>4</th>\n",
       "      <th>5</th>\n",
       "      <th>6</th>\n",
       "      <th>7</th>\n",
       "      <th>8</th>\n",
       "      <th>9</th>\n",
       "      <th>10</th>\n",
       "      <th>11</th>\n",
       "      <th>12</th>\n",
       "      <th>13</th>\n",
       "      <th>14</th>\n",
       "      <th>15</th>\n",
       "      <th>16</th>\n",
       "      <th>17</th>\n",
       "      <th>18</th>\n",
       "      <th>19</th>\n",
       "    </tr>\n",
       "  </thead>\n",
       "  <tbody>\n",
       "    <tr>\n",
       "      <th>grape</th>\n",
       "      <td>0.000000</td>\n",
       "      <td>0.000000</td>\n",
       "      <td>0.000000</td>\n",
       "      <td>0.000000</td>\n",
       "      <td>1.000000</td>\n",
       "      <td>1.000000</td>\n",
       "      <td>1.000000</td>\n",
       "      <td>1.000000</td>\n",
       "      <td>0.000000</td>\n",
       "      <td>1.0</td>\n",
       "      <td>1.0</td>\n",
       "      <td>0.000000</td>\n",
       "      <td>1.000000</td>\n",
       "      <td>1.0</td>\n",
       "      <td>1.0</td>\n",
       "      <td>1.000000</td>\n",
       "      <td>0.000000</td>\n",
       "      <td>0.000000</td>\n",
       "      <td>0.000000</td>\n",
       "      <td>1.000000</td>\n",
       "    </tr>\n",
       "    <tr>\n",
       "      <th>pred</th>\n",
       "      <td>94.481041</td>\n",
       "      <td>91.672386</td>\n",
       "      <td>91.762512</td>\n",
       "      <td>91.902008</td>\n",
       "      <td>94.773338</td>\n",
       "      <td>96.357887</td>\n",
       "      <td>96.449913</td>\n",
       "      <td>97.563377</td>\n",
       "      <td>89.430824</td>\n",
       "      <td>100.0</td>\n",
       "      <td>100.0</td>\n",
       "      <td>87.860451</td>\n",
       "      <td>93.354683</td>\n",
       "      <td>100.0</td>\n",
       "      <td>100.0</td>\n",
       "      <td>94.750534</td>\n",
       "      <td>88.244255</td>\n",
       "      <td>91.671265</td>\n",
       "      <td>89.949608</td>\n",
       "      <td>75.877579</td>\n",
       "    </tr>\n",
       "    <tr>\n",
       "      <th>true</th>\n",
       "      <td>92.000000</td>\n",
       "      <td>90.000000</td>\n",
       "      <td>89.000000</td>\n",
       "      <td>93.000000</td>\n",
       "      <td>94.000000</td>\n",
       "      <td>94.500000</td>\n",
       "      <td>90.000000</td>\n",
       "      <td>94.000000</td>\n",
       "      <td>89.000000</td>\n",
       "      <td>95.0</td>\n",
       "      <td>92.0</td>\n",
       "      <td>86.500000</td>\n",
       "      <td>93.000000</td>\n",
       "      <td>93.0</td>\n",
       "      <td>94.0</td>\n",
       "      <td>91.000000</td>\n",
       "      <td>85.000000</td>\n",
       "      <td>92.500000</td>\n",
       "      <td>92.500000</td>\n",
       "      <td>86.000000</td>\n",
       "    </tr>\n",
       "  </tbody>\n",
       "</table>\n",
       "</div>"
      ],
      "text/plain": [
       "              0          1          2          3          4          5   \\\n",
       "grape   0.000000   0.000000   0.000000   0.000000   1.000000   1.000000   \n",
       "pred   94.481041  91.672386  91.762512  91.902008  94.773338  96.357887   \n",
       "true   92.000000  90.000000  89.000000  93.000000  94.000000  94.500000   \n",
       "\n",
       "              6          7          8      9      10         11         12  \\\n",
       "grape   1.000000   1.000000   0.000000    1.0    1.0   0.000000   1.000000   \n",
       "pred   96.449913  97.563377  89.430824  100.0  100.0  87.860451  93.354683   \n",
       "true   90.000000  94.000000  89.000000   95.0   92.0  86.500000  93.000000   \n",
       "\n",
       "          13     14         15         16         17         18         19  \n",
       "grape    1.0    1.0   1.000000   0.000000   0.000000   0.000000   1.000000  \n",
       "pred   100.0  100.0  94.750534  88.244255  91.671265  89.949608  75.877579  \n",
       "true    93.0   94.0  91.000000  85.000000  92.500000  92.500000  86.000000  "
      ]
     },
     "execution_count": 569,
     "metadata": {},
     "output_type": "execute_result"
    }
   ],
   "source": [
    "def pred_lim(x):\n",
    "    if x > 100: \n",
    "        return 100\n",
    "    else:\n",
    "        return x\n",
    "    \n",
    "res = pd.DataFrame({'grape':s_test, 'pred':preds, 'true': gt_test})\n",
    "res.pred = res.pred.apply(pred_lim)\n",
    "res.T"
   ]
  },
  {
   "cell_type": "code",
   "execution_count": 570,
   "metadata": {},
   "outputs": [
    {
     "data": {
      "image/png": "[encoded data removed]",
      "text/plain": [
       "<Figure size 432x288 with 1 Axes>"
      ]
     },
     "metadata": {
      "needs_background": "light"
     },
     "output_type": "display_data"
    }
   ],
   "source": [
    "plt.scatter(res.pred, res.true)\n",
    "plt.show()"
   ]
  },
  {
   "cell_type": "code",
   "execution_count": 571,
   "metadata": {},
   "outputs": [],
   "source": [
    "from scipy.stats import pearsonr"
   ]
  },
  {
   "cell_type": "code",
   "execution_count": 572,
   "metadata": {},
   "outputs": [],
   "source": [
    "corr, _ = pearsonr(res.pred, res.true)"
   ]
  },
  {
   "cell_type": "code",
   "execution_count": 576,
   "metadata": {},
   "outputs": [
    {
     "data": {
      "text/plain": [
       "0.7471473627449555"
      ]
     },
     "execution_count": 576,
     "metadata": {},
     "output_type": "execute_result"
    }
   ],
   "source": [
    "# 16, 16 in CNN & 16 -> 4, 1 in DNN\n",
    "corr"
   ]
  },
  {
   "cell_type": "code",
   "execution_count": 575,
   "metadata": {},
   "outputs": [
    {
     "data": {
      "text/plain": [
       "4.3962880958686705"
      ]
     },
     "execution_count": 575,
     "metadata": {},
     "output_type": "execute_result"
    }
   ],
   "source": [
    "np.sqrt(np.sum((res.pred - res.true)**2)/res.shape[0])"
   ]
  },
  {
   "cell_type": "code",
   "execution_count": null,
   "metadata": {},
   "outputs": [],
   "source": []
  }
 ],
 "metadata": {
  "interpreter": {
   "hash": "dbc0770ecd30f98561162093fd8abab0709c5060f2f81711c403a4cebee6fe13"
  },
  "kernelspec": {
   "display_name": "Python 3",
   "language": "python",
   "name": "python3"
  },
  "language_info": {
   "codemirror_mode": {
    "name": "ipython",
    "version": 3
   },
   "file_extension": ".py",
   "mimetype": "text/x-python",
   "name": "python",
   "nbconvert_exporter": "python",
   "pygments_lexer": "ipython3",
   "version": "3.7.6"
  }
 },
 "nbformat": 4,
 "nbformat_minor": 2
}
