{
 "cells": [
  {
   "cell_type": "markdown",
   "metadata": {},
   "source": [
    "# CNN-LSTM\n",
    "\n",
    "Information..."
   ]
  },
  {
   "cell_type": "markdown",
   "metadata": {},
   "source": [
    "## Load packages"
   ]
  },
  {
   "cell_type": "code",
   "execution_count": 1,
   "metadata": {},
   "outputs": [],
   "source": [
    "import os, sys, random\n",
    "import numpy as np\n",
    "import pandas as pd"
   ]
  },
  {
   "cell_type": "code",
   "execution_count": 3,
   "metadata": {},
   "outputs": [],
   "source": [
    "sys.path.append('../scripts')\n",
    "from CNN import CNNBlock"
   ]
  },
  {
   "cell_type": "code",
   "execution_count": 16,
   "metadata": {},
   "outputs": [],
   "source": [
    "from tensorflow.keras import Model\n",
    "from tensorflow.keras.optimizers import Adam\n",
    "from tensorflow.keras.layers import InputLayer, LSTM, Embedding, Concatenate, Dense"
   ]
  },
  {
   "cell_type": "markdown",
   "metadata": {},
   "source": [
    "## Create model"
   ]
  },
  {
   "cell_type": "code",
   "execution_count": 21,
   "metadata": {},
   "outputs": [
    {
     "ename": "AttributeError",
     "evalue": "Exception encountered when calling layer \"embedding_3\" (type Embedding).\n\n'str' object has no attribute 'base_dtype'\n\nCall arguments received:\n  • inputs=<keras.engine.input_layer.InputLayer object at 0x7fa9a8641f40>",
     "output_type": "error",
     "traceback": [
      "\u001b[0;31m---------------------------------------------------------------------------\u001b[0m",
      "\u001b[0;31mAttributeError\u001b[0m                            Traceback (most recent call last)",
      "\u001b[1;32m/Users/patrick/Documents/BSGP/22_SPRING/Neural Nets/FinalProject/WineAI/notebooks/CNN-LSTM.ipynb Cell 7'\u001b[0m in \u001b[0;36m<module>\u001b[0;34m\u001b[0m\n\u001b[1;32m      <a href='vscode-notebook-cell:/Users/patrick/Documents/BSGP/22_SPRING/Neural%20Nets/FinalProject/WineAI/notebooks/CNN-LSTM.ipynb#ch0000011?line=0'>1</a>\u001b[0m grape_input \u001b[39m=\u001b[39m InputLayer(input_shape\u001b[39m=\u001b[39m(\u001b[39m1\u001b[39m,), dtype\u001b[39m=\u001b[39mtf\u001b[39m.\u001b[39mint32)\n\u001b[0;32m----> <a href='vscode-notebook-cell:/Users/patrick/Documents/BSGP/22_SPRING/Neural%20Nets/FinalProject/WineAI/notebooks/CNN-LSTM.ipynb#ch0000011?line=1'>2</a>\u001b[0m grape \u001b[39m=\u001b[39m Embedding(input_dim\u001b[39m=\u001b[39;49m\u001b[39m2\u001b[39;49m, output_dim\u001b[39m=\u001b[39;49m\u001b[39m10\u001b[39;49m, input_length\u001b[39m=\u001b[39;49m\u001b[39m1\u001b[39;49m)(grape_input)\n\u001b[1;32m      <a href='vscode-notebook-cell:/Users/patrick/Documents/BSGP/22_SPRING/Neural%20Nets/FinalProject/WineAI/notebooks/CNN-LSTM.ipynb#ch0000011?line=3'>4</a>\u001b[0m weather_input \u001b[39m=\u001b[39m InputLayer((\u001b[39m100\u001b[39m,))\n\u001b[1;32m      <a href='vscode-notebook-cell:/Users/patrick/Documents/BSGP/22_SPRING/Neural%20Nets/FinalProject/WineAI/notebooks/CNN-LSTM.ipynb#ch0000011?line=5'>6</a>\u001b[0m cnn \u001b[39m=\u001b[39m CNNBlock()\n",
      "File \u001b[0;32m/usr/local/anaconda3/envs/tf/lib/python3.8/site-packages/keras/utils/traceback_utils.py:67\u001b[0m, in \u001b[0;36mfilter_traceback.<locals>.error_handler\u001b[0;34m(*args, **kwargs)\u001b[0m\n\u001b[1;32m     <a href='file:///usr/local/anaconda3/envs/tf/lib/python3.8/site-packages/keras/utils/traceback_utils.py?line=64'>65</a>\u001b[0m \u001b[39mexcept\u001b[39;00m \u001b[39mException\u001b[39;00m \u001b[39mas\u001b[39;00m e:  \u001b[39m# pylint: disable=broad-except\u001b[39;00m\n\u001b[1;32m     <a href='file:///usr/local/anaconda3/envs/tf/lib/python3.8/site-packages/keras/utils/traceback_utils.py?line=65'>66</a>\u001b[0m   filtered_tb \u001b[39m=\u001b[39m _process_traceback_frames(e\u001b[39m.\u001b[39m__traceback__)\n\u001b[0;32m---> <a href='file:///usr/local/anaconda3/envs/tf/lib/python3.8/site-packages/keras/utils/traceback_utils.py?line=66'>67</a>\u001b[0m   \u001b[39mraise\u001b[39;00m e\u001b[39m.\u001b[39mwith_traceback(filtered_tb) \u001b[39mfrom\u001b[39;00m \u001b[39mNone\u001b[39m\n\u001b[1;32m     <a href='file:///usr/local/anaconda3/envs/tf/lib/python3.8/site-packages/keras/utils/traceback_utils.py?line=67'>68</a>\u001b[0m \u001b[39mfinally\u001b[39;00m:\n\u001b[1;32m     <a href='file:///usr/local/anaconda3/envs/tf/lib/python3.8/site-packages/keras/utils/traceback_utils.py?line=68'>69</a>\u001b[0m   \u001b[39mdel\u001b[39;00m filtered_tb\n",
      "File \u001b[0;32m/usr/local/anaconda3/envs/tf/lib/python3.8/site-packages/keras/backend.py:1498\u001b[0m, in \u001b[0;36mdtype\u001b[0;34m(x)\u001b[0m\n\u001b[1;32m   <a href='file:///usr/local/anaconda3/envs/tf/lib/python3.8/site-packages/keras/backend.py?line=1466'>1467</a>\u001b[0m \u001b[39m@keras_export\u001b[39m(\u001b[39m'\u001b[39m\u001b[39mkeras.backend.dtype\u001b[39m\u001b[39m'\u001b[39m)\n\u001b[1;32m   <a href='file:///usr/local/anaconda3/envs/tf/lib/python3.8/site-packages/keras/backend.py?line=1467'>1468</a>\u001b[0m \u001b[39m@tf\u001b[39m\u001b[39m.\u001b[39m__internal__\u001b[39m.\u001b[39mdispatch\u001b[39m.\u001b[39madd_dispatch_support\n\u001b[1;32m   <a href='file:///usr/local/anaconda3/envs/tf/lib/python3.8/site-packages/keras/backend.py?line=1468'>1469</a>\u001b[0m \u001b[39m@doc_controls\u001b[39m\u001b[39m.\u001b[39mdo_not_generate_docs\n\u001b[1;32m   <a href='file:///usr/local/anaconda3/envs/tf/lib/python3.8/site-packages/keras/backend.py?line=1469'>1470</a>\u001b[0m \u001b[39mdef\u001b[39;00m \u001b[39mdtype\u001b[39m(x):\n\u001b[1;32m   <a href='file:///usr/local/anaconda3/envs/tf/lib/python3.8/site-packages/keras/backend.py?line=1470'>1471</a>\u001b[0m   \u001b[39m\"\"\"Returns the dtype of a Keras tensor or variable, as a string.\u001b[39;00m\n\u001b[1;32m   <a href='file:///usr/local/anaconda3/envs/tf/lib/python3.8/site-packages/keras/backend.py?line=1471'>1472</a>\u001b[0m \n\u001b[1;32m   <a href='file:///usr/local/anaconda3/envs/tf/lib/python3.8/site-packages/keras/backend.py?line=1472'>1473</a>\u001b[0m \u001b[39m  Args:\u001b[39;00m\n\u001b[0;32m   (...)\u001b[0m\n\u001b[1;32m   <a href='file:///usr/local/anaconda3/envs/tf/lib/python3.8/site-packages/keras/backend.py?line=1495'>1496</a>\u001b[0m \n\u001b[1;32m   <a href='file:///usr/local/anaconda3/envs/tf/lib/python3.8/site-packages/keras/backend.py?line=1496'>1497</a>\u001b[0m \u001b[39m  \"\"\"\u001b[39;00m\n\u001b[0;32m-> <a href='file:///usr/local/anaconda3/envs/tf/lib/python3.8/site-packages/keras/backend.py?line=1497'>1498</a>\u001b[0m   \u001b[39mreturn\u001b[39;00m x\u001b[39m.\u001b[39;49mdtype\u001b[39m.\u001b[39;49mbase_dtype\u001b[39m.\u001b[39mname\n",
      "\u001b[0;31mAttributeError\u001b[0m: Exception encountered when calling layer \"embedding_3\" (type Embedding).\n\n'str' object has no attribute 'base_dtype'\n\nCall arguments received:\n  • inputs=<keras.engine.input_layer.InputLayer object at 0x7fa9a8641f40>"
     ]
    }
   ],
   "source": [
    "grape_input = InputLayer(input_shape=(1,))\n",
    "grape = Embedding(input_dim=2, output_dim=10, input_length=1)(grape_input)\n",
    "\n",
    "weather_input = InputLayer((100,))\n",
    "\n",
    "cnn = CNNBlock()\n",
    "x = cnn(weather_input)\n",
    "x = LSTM(10)(x)\n",
    "x = Concatenate()([x, grape])\n",
    "x = Dense(1, activation='relu')(x)"
   ]
  },
  {
   "cell_type": "code",
   "execution_count": null,
   "metadata": {},
   "outputs": [],
   "source": [
    "#TODO early stopping\n",
    "#TODO optimizer\n",
    "#TODO regularization"
   ]
  },
  {
   "cell_type": "code",
   "execution_count": null,
   "metadata": {},
   "outputs": [],
   "source": [
    "model = Model(inputs=[grape_input, weather_input], outputs=x)\n",
    "model.compile()"
   ]
  }
 ],
 "metadata": {
  "interpreter": {
   "hash": "dbc0770ecd30f98561162093fd8abab0709c5060f2f81711c403a4cebee6fe13"
  },
  "kernelspec": {
   "display_name": "Python 3.8.12 ('tf')",
   "language": "python",
   "name": "python3"
  },
  "language_info": {
   "codemirror_mode": {
    "name": "ipython",
    "version": 3
   },
   "file_extension": ".py",
   "mimetype": "text/x-python",
   "name": "python",
   "nbconvert_exporter": "python",
   "pygments_lexer": "ipython3",
   "version": "3.8.12"
  },
  "orig_nbformat": 4
 },
 "nbformat": 4,
 "nbformat_minor": 2
}
