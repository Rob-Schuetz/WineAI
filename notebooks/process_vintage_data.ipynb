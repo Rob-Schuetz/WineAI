{
 "cells": [
  {
   "cell_type": "markdown",
   "metadata": {},
   "source": [
    "# Load data and packages"
   ]
  },
  {
   "cell_type": "code",
   "execution_count": 1,
   "metadata": {},
   "outputs": [],
   "source": [
    "import numpy as np\n",
    "import pandas as pd\n",
    "import matplotlib.pyplot as plt"
   ]
  },
  {
   "cell_type": "code",
   "execution_count": 3,
   "metadata": {},
   "outputs": [
    {
     "data": {
      "text/html": [
       "<div>\n",
       "<style scoped>\n",
       "    .dataframe tbody tr th:only-of-type {\n",
       "        vertical-align: middle;\n",
       "    }\n",
       "\n",
       "    .dataframe tbody tr th {\n",
       "        vertical-align: top;\n",
       "    }\n",
       "\n",
       "    .dataframe thead th {\n",
       "        text-align: right;\n",
       "    }\n",
       "</style>\n",
       "<table border=\"1\" class=\"dataframe\">\n",
       "  <thead>\n",
       "    <tr style=\"text-align: right;\">\n",
       "      <th></th>\n",
       "      <th>varietal</th>\n",
       "      <th>state</th>\n",
       "      <th>region</th>\n",
       "      <th>vintage</th>\n",
       "      <th>vintage_rating</th>\n",
       "    </tr>\n",
       "  </thead>\n",
       "  <tbody>\n",
       "    <tr>\n",
       "      <th>0</th>\n",
       "      <td>chardonnay</td>\n",
       "      <td>CA</td>\n",
       "      <td>napa</td>\n",
       "      <td>1996</td>\n",
       "      <td>90</td>\n",
       "    </tr>\n",
       "    <tr>\n",
       "      <th>1</th>\n",
       "      <td>chardonnay</td>\n",
       "      <td>CA</td>\n",
       "      <td>napa</td>\n",
       "      <td>1997</td>\n",
       "      <td>94</td>\n",
       "    </tr>\n",
       "    <tr>\n",
       "      <th>2</th>\n",
       "      <td>chardonnay</td>\n",
       "      <td>CA</td>\n",
       "      <td>napa</td>\n",
       "      <td>1998</td>\n",
       "      <td>87</td>\n",
       "    </tr>\n",
       "    <tr>\n",
       "      <th>3</th>\n",
       "      <td>chardonnay</td>\n",
       "      <td>CA</td>\n",
       "      <td>napa</td>\n",
       "      <td>1999</td>\n",
       "      <td>88</td>\n",
       "    </tr>\n",
       "    <tr>\n",
       "      <th>4</th>\n",
       "      <td>chardonnay</td>\n",
       "      <td>CA</td>\n",
       "      <td>napa</td>\n",
       "      <td>2000</td>\n",
       "      <td>88</td>\n",
       "    </tr>\n",
       "  </tbody>\n",
       "</table>\n",
       "</div>"
      ],
      "text/plain": [
       "     varietal state region  vintage  vintage_rating\n",
       "0  chardonnay    CA   napa     1996              90\n",
       "1  chardonnay    CA   napa     1997              94\n",
       "2  chardonnay    CA   napa     1998              87\n",
       "3  chardonnay    CA   napa     1999              88\n",
       "4  chardonnay    CA   napa     2000              88"
      ]
     },
     "execution_count": 3,
     "metadata": {},
     "output_type": "execute_result"
    }
   ],
   "source": [
    "wine = pd.read_csv('../data/varietal_vintage_qualities_USA_1996-2020.csv')\n",
    "wine.head()"
   ]
  },
  {
   "cell_type": "code",
   "execution_count": 37,
   "metadata": {},
   "outputs": [],
   "source": [
    "wine['state_ava'] = wine.state + '_' + wine.region"
   ]
  },
  {
   "cell_type": "code",
   "execution_count": 38,
   "metadata": {},
   "outputs": [
    {
     "data": {
      "text/plain": [
       "array(['CA_napa', 'CA_RRV', 'CA_sonoma', 'CA_carneros',\n",
       "       'CA_anderson valley', 'CA_santa barbara', 'CA_central coast',\n",
       "       'CA_north coast', 'CA_south coast', 'CA_sierra foothills',\n",
       "       'OR_willamette valley', 'WA_columbia valley'], dtype=object)"
      ]
     },
     "execution_count": 38,
     "metadata": {},
     "output_type": "execute_result"
    }
   ],
   "source": [
    "wine.state_ava.unique()"
   ]
  },
  {
   "cell_type": "code",
   "execution_count": 21,
   "metadata": {},
   "outputs": [
    {
     "data": {
      "text/plain": [
       "array(['sonoma', 'central coast', 'napa', 'RRV', 'carneros',\n",
       "       'columbia valley', 'santa barbara', 'willamette valley',\n",
       "       'sierra foothills', 'north coast', 'south coast',\n",
       "       'anderson valley'], dtype=object)"
      ]
     },
     "execution_count": 21,
     "metadata": {},
     "output_type": "execute_result"
    }
   ],
   "source": [
    "wine.region.value_counts().index.values"
   ]
  },
  {
   "cell_type": "markdown",
   "metadata": {},
   "source": [
    "# Consolidate data"
   ]
  },
  {
   "cell_type": "markdown",
   "metadata": {},
   "source": [
    "To have more data / class, we have decided to separate the varietals (grape species) into either thick or thin skinned grapes. The intuition behind this is that skin thickness determines the weather conditions that will be favorable for desired growth. That is, thin-skinned grapes, such as pinot noir and chardonnay, are more delicate and thrive in more fair weather / cooler climates. Alternatively, thick-skinned grapes such as cabernet sauvingnon are more hardy and thus can be growth successfully in warmer weather.\n",
    "\n",
    "\n",
    "If there are multiple varietals of the same class (thick v. thin) for a specific AVA (region) and vintage (year), we will average the response label (vintage quality/rating) within the class."
   ]
  },
  {
   "cell_type": "code",
   "execution_count": 5,
   "metadata": {},
   "outputs": [
    {
     "data": {
      "text/plain": [
       "array(['chardonnay', 'cabernet sauvignon', 'zinfadel', 'pinot noir',\n",
       "       'syrah'], dtype=object)"
      ]
     },
     "execution_count": 5,
     "metadata": {},
     "output_type": "execute_result"
    }
   ],
   "source": [
    "wine.varietal.unique()"
   ]
  },
  {
   "cell_type": "code",
   "execution_count": 26,
   "metadata": {},
   "outputs": [
    {
     "data": {
      "text/html": [
       "<div>\n",
       "<style scoped>\n",
       "    .dataframe tbody tr th:only-of-type {\n",
       "        vertical-align: middle;\n",
       "    }\n",
       "\n",
       "    .dataframe tbody tr th {\n",
       "        vertical-align: top;\n",
       "    }\n",
       "\n",
       "    .dataframe thead th {\n",
       "        text-align: right;\n",
       "    }\n",
       "</style>\n",
       "<table border=\"1\" class=\"dataframe\">\n",
       "  <thead>\n",
       "    <tr style=\"text-align: right;\">\n",
       "      <th></th>\n",
       "      <th>skin</th>\n",
       "      <th>region</th>\n",
       "      <th>vintage</th>\n",
       "      <th>quality</th>\n",
       "    </tr>\n",
       "  </thead>\n",
       "  <tbody>\n",
       "    <tr>\n",
       "      <th>0</th>\n",
       "      <td>thin</td>\n",
       "      <td>napa</td>\n",
       "      <td>1996</td>\n",
       "      <td>90</td>\n",
       "    </tr>\n",
       "    <tr>\n",
       "      <th>1</th>\n",
       "      <td>thin</td>\n",
       "      <td>napa</td>\n",
       "      <td>1997</td>\n",
       "      <td>94</td>\n",
       "    </tr>\n",
       "    <tr>\n",
       "      <th>2</th>\n",
       "      <td>thin</td>\n",
       "      <td>napa</td>\n",
       "      <td>1998</td>\n",
       "      <td>87</td>\n",
       "    </tr>\n",
       "    <tr>\n",
       "      <th>3</th>\n",
       "      <td>thin</td>\n",
       "      <td>napa</td>\n",
       "      <td>1999</td>\n",
       "      <td>88</td>\n",
       "    </tr>\n",
       "    <tr>\n",
       "      <th>4</th>\n",
       "      <td>thin</td>\n",
       "      <td>napa</td>\n",
       "      <td>2000</td>\n",
       "      <td>88</td>\n",
       "    </tr>\n",
       "  </tbody>\n",
       "</table>\n",
       "</div>"
      ],
      "text/plain": [
       "   skin region  vintage  quality\n",
       "0  thin   napa     1996       90\n",
       "1  thin   napa     1997       94\n",
       "2  thin   napa     1998       87\n",
       "3  thin   napa     1999       88\n",
       "4  thin   napa     2000       88"
      ]
     },
     "execution_count": 26,
     "metadata": {},
     "output_type": "execute_result"
    }
   ],
   "source": [
    "cls_label = {'chardonnay':'thin',\n",
    "             'pinot noir': 'thin',\n",
    "             'cabernet sauvignon': 'thick',\n",
    "             'zinfadel': 'thick',\n",
    "             'syrah': 'thick'}\n",
    "\n",
    "df2 = wine.copy().loc[:, ['varietal', 'region', 'vintage', 'vintage_rating']]\n",
    "df2.varietal = df2.varietal.apply(cls_label.get)\n",
    "df2 = df2.rename(columns={'varietal':'skin', 'vintage_rating':'quality'})\n",
    "df2.head()"
   ]
  },
  {
   "cell_type": "code",
   "execution_count": 27,
   "metadata": {},
   "outputs": [],
   "source": [
    "df3 = pd.DataFrame(columns = df2.columns)\n",
    "idx = 0\n",
    "for i, subdf in df2.groupby(['skin', 'region', 'vintage']):\n",
    "    row = subdf.iloc[0, :3].to_list()\n",
    "    row.append(np.mean(subdf.quality))\n",
    "    df3.loc[idx, :] = row\n",
    "    idx += 1"
   ]
  },
  {
   "cell_type": "code",
   "execution_count": 29,
   "metadata": {},
   "outputs": [
    {
     "name": "stdout",
     "output_type": "stream",
     "text": [
      "(362, 4)\n"
     ]
    },
    {
     "data": {
      "text/html": [
       "<div>\n",
       "<style scoped>\n",
       "    .dataframe tbody tr th:only-of-type {\n",
       "        vertical-align: middle;\n",
       "    }\n",
       "\n",
       "    .dataframe tbody tr th {\n",
       "        vertical-align: top;\n",
       "    }\n",
       "\n",
       "    .dataframe thead th {\n",
       "        text-align: right;\n",
       "    }\n",
       "</style>\n",
       "<table border=\"1\" class=\"dataframe\">\n",
       "  <thead>\n",
       "    <tr style=\"text-align: right;\">\n",
       "      <th></th>\n",
       "      <th>skin</th>\n",
       "      <th>region</th>\n",
       "      <th>vintage</th>\n",
       "      <th>quality</th>\n",
       "    </tr>\n",
       "  </thead>\n",
       "  <tbody>\n",
       "    <tr>\n",
       "      <th>0</th>\n",
       "      <td>thick</td>\n",
       "      <td>central coast</td>\n",
       "      <td>1998</td>\n",
       "      <td>83.0</td>\n",
       "    </tr>\n",
       "    <tr>\n",
       "      <th>1</th>\n",
       "      <td>thick</td>\n",
       "      <td>central coast</td>\n",
       "      <td>1999</td>\n",
       "      <td>86.0</td>\n",
       "    </tr>\n",
       "    <tr>\n",
       "      <th>2</th>\n",
       "      <td>thick</td>\n",
       "      <td>central coast</td>\n",
       "      <td>2000</td>\n",
       "      <td>84.0</td>\n",
       "    </tr>\n",
       "    <tr>\n",
       "      <th>3</th>\n",
       "      <td>thick</td>\n",
       "      <td>central coast</td>\n",
       "      <td>2001</td>\n",
       "      <td>91.0</td>\n",
       "    </tr>\n",
       "    <tr>\n",
       "      <th>4</th>\n",
       "      <td>thick</td>\n",
       "      <td>central coast</td>\n",
       "      <td>2002</td>\n",
       "      <td>88.0</td>\n",
       "    </tr>\n",
       "  </tbody>\n",
       "</table>\n",
       "</div>"
      ],
      "text/plain": [
       "    skin         region vintage quality\n",
       "0  thick  central coast    1998    83.0\n",
       "1  thick  central coast    1999    86.0\n",
       "2  thick  central coast    2000    84.0\n",
       "3  thick  central coast    2001    91.0\n",
       "4  thick  central coast    2002    88.0"
      ]
     },
     "execution_count": 29,
     "metadata": {},
     "output_type": "execute_result"
    }
   ],
   "source": [
    "print(df3.shape)\n",
    "df3.head()"
   ]
  },
  {
   "cell_type": "code",
   "execution_count": 33,
   "metadata": {},
   "outputs": [],
   "source": [
    "df3.to_csv('../data/wine_processed.csv')"
   ]
  },
  {
   "cell_type": "code",
   "execution_count": 32,
   "metadata": {},
   "outputs": [
    {
     "data": {
      "image/png": "[encoded data removed]",
      "text/plain": [
       "<Figure size 432x288 with 1 Axes>"
      ]
     },
     "metadata": {
      "needs_background": "light"
     },
     "output_type": "display_data"
    }
   ],
   "source": [
    "plt.hist(df3.quality)\n",
    "plt.show()"
   ]
  },
  {
   "cell_type": "code",
   "execution_count": null,
   "metadata": {},
   "outputs": [],
   "source": []
  }
 ],
 "metadata": {
  "kernelspec": {
   "display_name": "Python 3",
   "language": "python",
   "name": "python3"
  },
  "language_info": {
   "codemirror_mode": {
    "name": "ipython",
    "version": 3
   },
   "file_extension": ".py",
   "mimetype": "text/x-python",
   "name": "python",
   "nbconvert_exporter": "python",
   "pygments_lexer": "ipython3",
   "version": "3.7.6"
  }
 },
 "nbformat": 4,
 "nbformat_minor": 4
}
